{
 "cells": [
  {
   "cell_type": "markdown",
   "metadata": {},
   "source": [
    "## Overview\n",
    "Author: Chenyu Shen (Rainy).  \n",
    "Last Updates: August 16, 2020.  \n",
    "\n",
    "This Jupyter notebook is to implement the text readability analysis of 10-K reports and its correlation to company performance by Li (Feng Li, 2008). Specifically, this notebook presents the change of MD&A section's readability, using three different metrics, document's length, fog index, and smog index, of given industry. The result visualization serves as a comparison to Li's paper, to represent the changes of the readabilities of financial reports over time."
   ]
  },
  {
   "cell_type": "code",
   "execution_count": 25,
   "metadata": {},
   "outputs": [],
   "source": [
    "# Set up analysis frameworks\n",
    "\n",
    "# Data mining from edgar\n",
    "import edgar\n",
    "from edgar import Company\n",
    "from bs4 import BeautifulSoup\n",
    "from edgar import Company, TXTML, XBRL, XBRLElement\n",
    "\n",
    "# Standard python analysis framework\n",
    "import pandas as pd\n",
    "import numpy as np\n",
    "import re\n",
    "import unicodedata\n",
    "from collections import Counter\n",
    "from collections import defaultdict\n",
    "\n",
    "# NLP frameworks\n",
    "from gensim import corpora\n",
    "import gensim\n",
    "import textstat\n",
    "import statistics as stats\n",
    "\n",
    "# Visualization\n",
    "import matplotlib\n",
    "from matplotlib import pyplot as plt\n",
    "import warnings\n",
    "warnings.filterwarnings(\"ignore\")\n"
   ]
  },
  {
   "cell_type": "markdown",
   "metadata": {},
   "source": [
    "## Preprocess wrds data "
   ]
  },
  {
   "cell_type": "code",
   "execution_count": 53,
   "metadata": {},
   "outputs": [],
   "source": [
    "# import data\n",
    "df = pd.read_csv(\"data_output/df_na_annual_15-19.csv\")"
   ]
  },
  {
   "cell_type": "code",
   "execution_count": 54,
   "metadata": {},
   "outputs": [
    {
     "name": "stdout",
     "output_type": "stream",
     "text": [
      "number of companies in this dataset 8437\n"
     ]
    }
   ],
   "source": [
    "# Data Inspection\n",
    "print(\"number of companies in this dataset\",len(df['cik'].unique()))"
   ]
  },
  {
   "cell_type": "code",
   "execution_count": 55,
   "metadata": {},
   "outputs": [],
   "source": [
    "# Assign naics industry code super class to each row. \n",
    "# e.g. 111110 : Soybean Farming, super class = '11', Agriculture, Forestry, Fishing and Hunting\n",
    "naics = df['naicsh'].to_list()\n",
    "naics = [str(e)[:4] for e in naics]\n",
    "df['naics_super'] = naics"
   ]
  },
  {
   "cell_type": "code",
   "execution_count": 56,
   "metadata": {},
   "outputs": [
    {
     "data": {
      "text/plain": [
       "4527"
      ]
     },
     "execution_count": 56,
     "metadata": {},
     "output_type": "execute_result"
    }
   ],
   "source": [
    "# Filter out to keep companies that have all five fiscal years' data\n",
    "\n",
    "# group by company\n",
    "grouped = df.groupby('cik').size().reset_index() \n",
    "# count records of company to keep those that have only five records\n",
    "cik_to_keep = grouped[grouped[0] == 6]['cik'].to_list()\n",
    "\n",
    "# restruct dataframe\n",
    "df = df[df.cik.isin(cik_to_keep)]\n",
    "len(df['cik'].unique()) # check number of companies in this dataset"
   ]
  },
  {
   "cell_type": "code",
   "execution_count": 61,
   "metadata": {},
   "outputs": [
    {
     "name": "stdout",
     "output_type": "stream",
     "text": [
      "number of companies in Finacne and Insurance (NAICS code starts with '52'): 443\n"
     ]
    }
   ],
   "source": [
    "# select industry for analysis. \n",
    "# group companies into industries is not required. May proceed with all companies data.\n",
    "df_industry = df[(df['naics_super'].str.startswith('51'))]"
   ]
  },
  {
   "cell_type": "code",
   "execution_count": 62,
   "metadata": {},
   "outputs": [
    {
     "data": {
      "text/html": [
       "<div>\n",
       "<style scoped>\n",
       "    .dataframe tbody tr th:only-of-type {\n",
       "        vertical-align: middle;\n",
       "    }\n",
       "\n",
       "    .dataframe tbody tr th {\n",
       "        vertical-align: top;\n",
       "    }\n",
       "\n",
       "    .dataframe thead th {\n",
       "        text-align: right;\n",
       "    }\n",
       "</style>\n",
       "<table border=\"1\" class=\"dataframe\">\n",
       "  <thead>\n",
       "    <tr style=\"text-align: right;\">\n",
       "      <th></th>\n",
       "      <th>gvkey</th>\n",
       "      <th>cik</th>\n",
       "      <th>fyear</th>\n",
       "      <th>naicsh</th>\n",
       "      <th>Net Income(Loss)</th>\n",
       "      <th>Assets - Total</th>\n",
       "      <th>Stockholders' Equity - Total</th>\n",
       "      <th>ROA</th>\n",
       "      <th>ROE</th>\n",
       "    </tr>\n",
       "    <tr>\n",
       "      <th>conm</th>\n",
       "      <th></th>\n",
       "      <th></th>\n",
       "      <th></th>\n",
       "      <th></th>\n",
       "      <th></th>\n",
       "      <th></th>\n",
       "      <th></th>\n",
       "      <th></th>\n",
       "      <th></th>\n",
       "    </tr>\n",
       "  </thead>\n",
       "  <tbody>\n",
       "    <tr>\n",
       "      <th>AT&amp;T INC</th>\n",
       "      <td>9899</td>\n",
       "      <td>732717</td>\n",
       "      <td>2016.5</td>\n",
       "      <td>517244.0</td>\n",
       "      <td>15878.000000</td>\n",
       "      <td>437825.333333</td>\n",
       "      <td>140224.500000</td>\n",
       "      <td>0.035744</td>\n",
       "      <td>0.112665</td>\n",
       "    </tr>\n",
       "    <tr>\n",
       "      <th>VERIZON COMMUNICATIONS INC</th>\n",
       "      <td>2136</td>\n",
       "      <td>732712</td>\n",
       "      <td>2016.5</td>\n",
       "      <td>517244.0</td>\n",
       "      <td>17587.500000</td>\n",
       "      <td>255871.166667</td>\n",
       "      <td>34814.333333</td>\n",
       "      <td>0.068322</td>\n",
       "      <td>0.626368</td>\n",
       "    </tr>\n",
       "    <tr>\n",
       "      <th>CHINA MOBILE LTD</th>\n",
       "      <td>65662</td>\n",
       "      <td>1117795</td>\n",
       "      <td>2016.5</td>\n",
       "      <td>517244.0</td>\n",
       "      <td>16672.422000</td>\n",
       "      <td>223281.689167</td>\n",
       "      <td>147283.133167</td>\n",
       "      <td>0.074836</td>\n",
       "      <td>0.113574</td>\n",
       "    </tr>\n",
       "    <tr>\n",
       "      <th>MICROSOFT CORP</th>\n",
       "      <td>12141</td>\n",
       "      <td>789019</td>\n",
       "      <td>2016.5</td>\n",
       "      <td>511210.0</td>\n",
       "      <td>21346.666667</td>\n",
       "      <td>221465.166667</td>\n",
       "      <td>83217.666667</td>\n",
       "      <td>0.095479</td>\n",
       "      <td>0.251353</td>\n",
       "    </tr>\n",
       "    <tr>\n",
       "      <th>COMCAST CORP</th>\n",
       "      <td>3226</td>\n",
       "      <td>1166691</td>\n",
       "      <td>2016.5</td>\n",
       "      <td>515210.0</td>\n",
       "      <td>12123.333333</td>\n",
       "      <td>201410.000000</td>\n",
       "      <td>63644.666667</td>\n",
       "      <td>0.061241</td>\n",
       "      <td>0.188178</td>\n",
       "    </tr>\n",
       "  </tbody>\n",
       "</table>\n",
       "</div>"
      ],
      "text/plain": [
       "                            gvkey      cik   fyear    naicsh  \\\n",
       "conm                                                           \n",
       "AT&T INC                     9899   732717  2016.5  517244.0   \n",
       "VERIZON COMMUNICATIONS INC   2136   732712  2016.5  517244.0   \n",
       "CHINA MOBILE LTD            65662  1117795  2016.5  517244.0   \n",
       "MICROSOFT CORP              12141   789019  2016.5  511210.0   \n",
       "COMCAST CORP                 3226  1166691  2016.5  515210.0   \n",
       "\n",
       "                            Net Income(Loss)  Assets - Total  \\\n",
       "conm                                                           \n",
       "AT&T INC                        15878.000000   437825.333333   \n",
       "VERIZON COMMUNICATIONS INC      17587.500000   255871.166667   \n",
       "CHINA MOBILE LTD                16672.422000   223281.689167   \n",
       "MICROSOFT CORP                  21346.666667   221465.166667   \n",
       "COMCAST CORP                    12123.333333   201410.000000   \n",
       "\n",
       "                            Stockholders' Equity - Total       ROA       ROE  \n",
       "conm                                                                          \n",
       "AT&T INC                                   140224.500000  0.035744  0.112665  \n",
       "VERIZON COMMUNICATIONS INC                  34814.333333  0.068322  0.626368  \n",
       "CHINA MOBILE LTD                           147283.133167  0.074836  0.113574  \n",
       "MICROSOFT CORP                              83217.666667  0.095479  0.251353  \n",
       "COMCAST CORP                                63644.666667  0.061241  0.188178  "
      ]
     },
     "execution_count": 62,
     "metadata": {},
     "output_type": "execute_result"
    }
   ],
   "source": [
    "# data inspection of selected industry\n",
    "df_industry.groupby('conm').mean().sort_values(by = 'Assets - Total', ascending = False).head()"
   ]
  },
  {
   "cell_type": "code",
   "execution_count": 63,
   "metadata": {},
   "outputs": [
    {
     "data": {
      "image/png": "[encoded data removed]",
      "text/plain": [
       "<Figure size 432x288 with 2 Axes>"
      ]
     },
     "metadata": {
      "needs_background": "light"
     },
     "output_type": "display_data"
    }
   ],
   "source": [
    "# check companies' size distribution\n",
    "plt.subplot(1,2,1)\n",
    "plt.boxplot(x = df_industry.groupby('conm').mean()['Assets - Total'])\n",
    "\n",
    "plt.subplot(1,2,2)\n",
    "plt.boxplot(x = df_industry.groupby('conm').mean()['Assets - Total'], showfliers = False)\n",
    "\n",
    "plt.title(\"Boxplot of Average Total Assets of selected industry (with/without outliers)\")\n",
    "plt.show()"
   ]
  },
  {
   "cell_type": "markdown",
   "metadata": {},
   "source": [
    "## Text Mining from Edgar \n",
    "\n",
    "Get data from Edgar, based on the companies cik and name."
   ]
  },
  {
   "cell_type": "markdown",
   "metadata": {},
   "source": [
    "### Data Sampling"
   ]
  },
  {
   "cell_type": "code",
   "execution_count": 79,
   "metadata": {},
   "outputs": [],
   "source": [
    "# random sampling by company in selected industry, \n",
    "# This step is not required. This is just to save time for a faster data mining process while pertain the analysis quality. \n",
    "conm_sample = np.random.choice(df_industry.conm, int(len(df_industry.cik.unique())*.25))\n",
    "df_sample = df_industry[(df_industry.conm.isin(conm_sample))]\n"
   ]
  },
  {
   "cell_type": "code",
   "execution_count": 80,
   "metadata": {},
   "outputs": [
    {
     "data": {
      "text/html": [
       "<div>\n",
       "<style scoped>\n",
       "    .dataframe tbody tr th:only-of-type {\n",
       "        vertical-align: middle;\n",
       "    }\n",
       "\n",
       "    .dataframe tbody tr th {\n",
       "        vertical-align: top;\n",
       "    }\n",
       "\n",
       "    .dataframe thead th {\n",
       "        text-align: right;\n",
       "    }\n",
       "</style>\n",
       "<table border=\"1\" class=\"dataframe\">\n",
       "  <thead>\n",
       "    <tr style=\"text-align: right;\">\n",
       "      <th></th>\n",
       "      <th>gvkey</th>\n",
       "      <th>cik</th>\n",
       "      <th>fyear</th>\n",
       "      <th>naicsh</th>\n",
       "      <th>Net Income(Loss)</th>\n",
       "      <th>Assets - Total</th>\n",
       "      <th>Stockholders' Equity - Total</th>\n",
       "      <th>ROA</th>\n",
       "      <th>ROE</th>\n",
       "    </tr>\n",
       "    <tr>\n",
       "      <th>conm</th>\n",
       "      <th></th>\n",
       "      <th></th>\n",
       "      <th></th>\n",
       "      <th></th>\n",
       "      <th></th>\n",
       "      <th></th>\n",
       "      <th></th>\n",
       "      <th></th>\n",
       "      <th></th>\n",
       "    </tr>\n",
       "  </thead>\n",
       "  <tbody>\n",
       "    <tr>\n",
       "      <th>MICROSOFT CORP</th>\n",
       "      <td>12141</td>\n",
       "      <td>789019</td>\n",
       "      <td>2016.5</td>\n",
       "      <td>511210.0</td>\n",
       "      <td>21346.666667</td>\n",
       "      <td>221465.166667</td>\n",
       "      <td>83217.666667</td>\n",
       "      <td>0.095479</td>\n",
       "      <td>0.251353</td>\n",
       "    </tr>\n",
       "    <tr>\n",
       "      <th>ORANGE</th>\n",
       "      <td>220940</td>\n",
       "      <td>1038143</td>\n",
       "      <td>2016.5</td>\n",
       "      <td>517177.0</td>\n",
       "      <td>2499.660667</td>\n",
       "      <td>108316.615833</td>\n",
       "      <td>34847.043833</td>\n",
       "      <td>0.023184</td>\n",
       "      <td>0.072286</td>\n",
       "    </tr>\n",
       "    <tr>\n",
       "      <th>CHINA TELECOM CORP LTD</th>\n",
       "      <td>254338</td>\n",
       "      <td>1191255</td>\n",
       "      <td>2016.5</td>\n",
       "      <td>517177.0</td>\n",
       "      <td>2905.032000</td>\n",
       "      <td>96777.630333</td>\n",
       "      <td>48251.913667</td>\n",
       "      <td>0.030043</td>\n",
       "      <td>0.060234</td>\n",
       "    </tr>\n",
       "    <tr>\n",
       "      <th>CHINA UNICOM (HONG KONG) LTD</th>\n",
       "      <td>137066</td>\n",
       "      <td>1113866</td>\n",
       "      <td>2016.5</td>\n",
       "      <td>517244.0</td>\n",
       "      <td>1175.690500</td>\n",
       "      <td>86297.197167</td>\n",
       "      <td>40576.350500</td>\n",
       "      <td>0.013775</td>\n",
       "      <td>0.029217</td>\n",
       "    </tr>\n",
       "    <tr>\n",
       "      <th>T-MOBILE US INC</th>\n",
       "      <td>17874</td>\n",
       "      <td>1283699</td>\n",
       "      <td>2016.5</td>\n",
       "      <td>517244.0</td>\n",
       "      <td>2222.000000</td>\n",
       "      <td>69155.333333</td>\n",
       "      <td>21087.000000</td>\n",
       "      <td>0.030382</td>\n",
       "      <td>0.096413</td>\n",
       "    </tr>\n",
       "  </tbody>\n",
       "</table>\n",
       "</div>"
      ],
      "text/plain": [
       "                               gvkey      cik   fyear    naicsh  \\\n",
       "conm                                                              \n",
       "MICROSOFT CORP                 12141   789019  2016.5  511210.0   \n",
       "ORANGE                        220940  1038143  2016.5  517177.0   \n",
       "CHINA TELECOM CORP LTD        254338  1191255  2016.5  517177.0   \n",
       "CHINA UNICOM (HONG KONG) LTD  137066  1113866  2016.5  517244.0   \n",
       "T-MOBILE US INC                17874  1283699  2016.5  517244.0   \n",
       "\n",
       "                              Net Income(Loss)  Assets - Total  \\\n",
       "conm                                                             \n",
       "MICROSOFT CORP                    21346.666667   221465.166667   \n",
       "ORANGE                             2499.660667   108316.615833   \n",
       "CHINA TELECOM CORP LTD             2905.032000    96777.630333   \n",
       "CHINA UNICOM (HONG KONG) LTD       1175.690500    86297.197167   \n",
       "T-MOBILE US INC                    2222.000000    69155.333333   \n",
       "\n",
       "                              Stockholders' Equity - Total       ROA       ROE  \n",
       "conm                                                                            \n",
       "MICROSOFT CORP                                83217.666667  0.095479  0.251353  \n",
       "ORANGE                                        34847.043833  0.023184  0.072286  \n",
       "CHINA TELECOM CORP LTD                        48251.913667  0.030043  0.060234  \n",
       "CHINA UNICOM (HONG KONG) LTD                  40576.350500  0.013775  0.029217  \n",
       "T-MOBILE US INC                               21087.000000  0.030382  0.096413  "
      ]
     },
     "execution_count": 80,
     "metadata": {},
     "output_type": "execute_result"
    }
   ],
   "source": [
    "# check sample result\n",
    "df_sample.groupby('conm').mean().sort_values(by = 'Assets - Total', ascending = False).head()\n"
   ]
  },
  {
   "cell_type": "code",
   "execution_count": 81,
   "metadata": {},
   "outputs": [
    {
     "data": {
      "image/png": "[encoded data removed]",
      "text/plain": [
       "<Figure size 432x288 with 2 Axes>"
      ]
     },
     "metadata": {
      "needs_background": "light"
     },
     "output_type": "display_data"
    }
   ],
   "source": [
    "# check sample company's size distribution\n",
    "plt.subplot(1,2,1)\n",
    "plt.boxplot(x = df_industry.groupby('conm').mean()['Assets - Total'],showfliers = False)\n",
    "\n",
    "plt.subplot(1,2,2)\n",
    "plt.boxplot(x = df_sample.groupby('conm').mean()['Assets - Total'], showfliers = False)\n",
    "\n",
    "plt.title(\"Boxplot of Average Total Assets of selected industry (with/without outliers)\")\n",
    "plt.show()"
   ]
  },
  {
   "cell_type": "markdown",
   "metadata": {},
   "source": [
    "### Text Mining from Edgar \n",
    "Text mining from Edgar to analyze 10-K readability over the years."
   ]
  },
  {
   "cell_type": "code",
   "execution_count": 37,
   "metadata": {},
   "outputs": [
    {
     "name": "stdout",
     "output_type": "stream",
     "text": [
      "CPU times: user 2 µs, sys: 0 ns, total: 2 µs\n",
      "Wall time: 4.77 µs\n"
     ]
    }
   ],
   "source": [
    "%%time\n",
    "\"\"\"\n",
    "This cell is a testing cell to estimate text mining time by single company, on your computer.\n",
    "\"\"\"\n",
    "# company_docs = []\n",
    "# from edgar import Company, XBRL, XBRLElement\n",
    "\n",
    "# company = Company(\"MASTERCARD INC\", \"1141391\")\n",
    "# results = company.get_document_type_from_10K(\"10-K\",no_of_documents = 6)\n",
    "\n",
    "# for d in results:\n",
    "#     company_docs.append(str(d.text_content()))"
   ]
  },
  {
   "cell_type": "code",
   "execution_count": 82,
   "metadata": {},
   "outputs": [
    {
     "data": {
      "text/plain": [
       "100"
      ]
     },
     "execution_count": 82,
     "metadata": {},
     "output_type": "execute_result"
    }
   ],
   "source": [
    "# Prepare a dictionary of comapny's cik code to name\n",
    "\n",
    "# list of cik of which 10-K documents needed\n",
    "cik_lst = df_sample['cik'].to_list()\n",
    "cik_lst = [str(int(w)) for w in cik_lst]\n",
    "\n",
    "# list of company names of which 10-K documents needed\n",
    "conm_lst = df_sample['conm'].to_list()\n",
    "\n",
    "# populate selected company's code and name look up dictionary: company_codes {cik : company name}\n",
    "company_codes = dict(zip(cik_lst,conm_lst))\n",
    "\n",
    "# Prepare a document dictionary to store 10-k documents of each company:  company_docs {cik : [10-k text]}\n",
    "company_docs = {k : [] for k in cik_lst}\n"
   ]
  },
  {
   "cell_type": "code",
   "execution_count": 84,
   "metadata": {},
   "outputs": [
    {
     "name": "stdout",
     "output_type": "stream",
     "text": [
      "CPU times: user 1min 36s, sys: 5.67 s, total: 1min 42s\n",
      "Wall time: 7min 55s\n"
     ]
    }
   ],
   "source": [
    "%%time\n",
    "# Text Mining\n",
    "\n",
    "no_doc = 6 # set the number of most recent documents for your research purpuse. \n",
    "#EX.: current date = 2020/07, no_doc = 2, gets documents in 2019 and 2018\n",
    "\n",
    "for cik, conm in company_codes.items():\n",
    "    company = Company(conm, cik)\n",
    "    results = company.get_document_type_from_10K(\"10-K\", no_of_documents = no_doc)\n",
    "\n",
    "    for d in results:\n",
    "        text = d.text_content()\n",
    "        company_docs[cik].append(str(text))"
   ]
  },
  {
   "cell_type": "markdown",
   "metadata": {},
   "source": [
    "### Store/read Data Result to/from Cache"
   ]
  },
  {
   "cell_type": "code",
   "execution_count": 230,
   "metadata": {},
   "outputs": [],
   "source": [
    "# store/read data to pickle file to cache data.\n",
    "import pickle\n",
    "\n",
    "# pickle.dump(company_docs, open( \"10k_6years.p\", \"wb\" ) )\n",
    "# company_docs = pickle.load( open( \"10k_6years.p\", \"rb\" ) )"
   ]
  },
  {
   "cell_type": "markdown",
   "metadata": {},
   "source": [
    "### Text Preprocessing"
   ]
  },
  {
   "cell_type": "code",
   "execution_count": 232,
   "metadata": {},
   "outputs": [],
   "source": [
    "# remove company with no 10-k records from Edgar\n",
    "company_docs = {k:v for k,v in company_docs.items() if len(v) >= 6}"
   ]
  },
  {
   "cell_type": "code",
   "execution_count": 233,
   "metadata": {},
   "outputs": [
    {
     "data": {
      "text/plain": [
       "72"
      ]
     },
     "execution_count": 233,
     "metadata": {},
     "output_type": "execute_result"
    }
   ],
   "source": [
    "len(company_docs)"
   ]
  },
  {
   "cell_type": "code",
   "execution_count": 306,
   "metadata": {},
   "outputs": [
    {
     "name": "stdout",
     "output_type": "stream",
     "text": [
      "CPU times: user 12.7 s, sys: 546 ms, total: 13.2 s\n",
      "Wall time: 13.3 s\n"
     ]
    }
   ],
   "source": [
    "%%time\n",
    "# Text preprocessing and extracting MD&A section\n",
    "\n",
    "# prepare a dictionary of company with their list of documents for text analysis: sample_lst {cik, [text]}\n",
    "sample_lst = {k:[] for k in company_docs.keys()}\n",
    "\n",
    "for k,v in company_docs.items():\n",
    "    for i in range(len(v)):\n",
    "        text = v[i]\n",
    "        # normalize text\n",
    "        text = text.lower()\n",
    "        text = unicodedata.normalize(\"NFKD\", text)\n",
    "        # remove tab, linefeed\n",
    "        text = re.sub('\\\\n|\\\\t',' ', text)\n",
    "        # remove duplicate whitespaces\n",
    "        text = re.sub('\\s+',' ',text)\n",
    "        # ignore amendment 10K/A \n",
    "        if len(re.findall('form 10-k/a',text)) == 0:\n",
    "            # Extract MD&A from the text\n",
    "            md_a_text = re.findall(\"item 7\\.(.*)item 8\\.\", text)\n",
    "            if len(md_a_text) > 0:\n",
    "                md_a_text = md_a_text[0]\n",
    "                sample_lst[k].append(md_a_text)"
   ]
  },
  {
   "cell_type": "code",
   "execution_count": 237,
   "metadata": {},
   "outputs": [],
   "source": [
    "# # check result for those companies that are not included in the list after preprocessing\n",
    "# code_lst = []\n",
    "# for k,doc in sample_lst.items():\n",
    "#     for d in doc:\n",
    "#         if type(d) != str:\n",
    "#             code_lst.append(k)\n",
    "\n",
    "# # Remove multiple keys from dictionary \n",
    "# sample_dct = dict([(key, val) for key, val in \n",
    "#            sample_lst.items() if key not in code_lst]) \n"
   ]
  },
  {
   "cell_type": "code",
   "execution_count": 310,
   "metadata": {},
   "outputs": [],
   "source": [
    "# # Debug: code for one company\n",
    "# text = company_docs['716133'][7]\n",
    "# # normalize text\n",
    "# text = text.lower()\n",
    "# text = unicodedata.normalize(\"NFKD\", text)\n",
    "# # remove tab, linefeed\n",
    "# text = re.sub('\\\\n|\\\\t',' ', text)\n",
    "# # remove duplicate whitespaces\n",
    "# text = re.sub('\\s+',' ',text)\n",
    "# # ignore amendment 10K/A \n",
    "# if len(re.findall('form 10-k/a',text)) == 0:\n",
    "#     # Extract Part 1 item 1 - \"Business\" from the text\n",
    "#     md_a_text = re.findall(\"item 7\\.(.*)item 8\\.\", text)[0]"
   ]
  },
  {
   "cell_type": "code",
   "execution_count": 17,
   "metadata": {},
   "outputs": [],
   "source": [
    "# # Debug\n",
    "# with open('sample_text.txt','w') as output:\n",
    "#     output.write(text)\n",
    "#     output.close()"
   ]
  },
  {
   "cell_type": "markdown",
   "metadata": {},
   "source": [
    "## Text Analysis "
   ]
  },
  {
   "cell_type": "code",
   "execution_count": 311,
   "metadata": {},
   "outputs": [],
   "source": [
    "# Calculate the readability stats of selected text sections from previous cells.\n",
    "\n",
    "year_dct = defaultdict(list)\n",
    "\n",
    "for k,docs in sample_lst.items():\n",
    "    for i in range(len(docs)):\n",
    "        # check if text exist\n",
    "        if type(docs[i]) == str:\n",
    "            text = docs[i]\n",
    "            # capitalize first letter of each sentence \n",
    "            text = '. '.join(list(map(lambda x: x.strip().capitalize(), text.split('.'))))\n",
    "            # calculate readability stats\n",
    "            fog = textstat.gunning_fog(text)\n",
    "            smog = textstat.smog_index(text)\n",
    "            length = np.log(len(text.split()))\n",
    "            year_dct[i].append((fog,smog,length))"
   ]
  },
  {
   "cell_type": "code",
   "execution_count": 313,
   "metadata": {},
   "outputs": [],
   "source": [
    "# Add data to lists\n",
    "stats_years = []\n",
    "\n",
    "for i in range(6):\n",
    "    fog_years = []\n",
    "    smog_years = []\n",
    "    length_years = []\n",
    "    \n",
    "    data = year_dct.get(i)\n",
    "    for j in range(len(data)):\n",
    "        fog_years.append(data[j][0])\n",
    "        smog_years.append(data[j][1])\n",
    "        length_years.append(data[j][2])\n",
    "        \n",
    "    stats_years.append((stats.median(fog_years), stats.median(smog_years), stats.median(length_years)))"
   ]
  },
  {
   "cell_type": "code",
   "execution_count": 314,
   "metadata": {},
   "outputs": [
    {
     "data": {
      "text/plain": [
       "[(13.955, 18.0, 10.339771599499802),\n",
       " (13.97, 17.8, 10.334375619864776),\n",
       " (14.0, 17.7, 10.310651217279874),\n",
       " (13.93, 17.7, 10.24721909083893),\n",
       " (14.0, 17.7, 10.244022951891711),\n",
       " (13.815000000000001, 17.6, 10.242363721656627)]"
      ]
     },
     "execution_count": 314,
     "metadata": {},
     "output_type": "execute_result"
    }
   ],
   "source": [
    "stats_years"
   ]
  },
  {
   "cell_type": "markdown",
   "metadata": {},
   "source": [
    "## Visualization "
   ]
  },
  {
   "cell_type": "code",
   "execution_count": 324,
   "metadata": {},
   "outputs": [
    {
     "data": {
      "image/png": "[encoded data removed]",
      "text/plain": [
       "<Figure size 576x360 with 2 Axes>"
      ]
     },
     "metadata": {},
     "output_type": "display_data"
    }
   ],
   "source": [
    "import matplotlib.ticker as ticker\n",
    "\n",
    "# create data\n",
    "doc_length = [stats_years[i][2] for i in range(len(stats_years))][::-1]\n",
    "smog_years = [stats_years[i][1] for i in range(len(stats_years))][::-1]\n",
    "fog_years = [stats_years[i][0] for i in range(len(stats_years))][::-1]\n",
    "\n",
    "t = np.array([2014,2015,2016,2017,2018,2019], dtype=np.double)\n",
    "data2 = doc_length\n",
    "data1 = fog_years\n",
    "\n",
    "fig, ax1 = plt.subplots(figsize = (8,5))\n",
    "\n",
    "# Be sure to only pick integer tick locations.\n",
    "for axis in [ax1.xaxis, ax1.yaxis]:\n",
    "    axis.set_major_locator(ticker.MaxNLocator(integer=True))\n",
    "\n",
    "color = 'tab:blue'\n",
    "ax1.set_xlabel('year')\n",
    "ax1.set_ylabel('Median Fog Index', color=color)\n",
    "ax1.plot(t, data1, marker = '^', markersize = 8,color=color)\n",
    "ax1.tick_params(axis='y', labelcolor=color)\n",
    "\n",
    "ax2 = ax1.twinx()  # instantiate a second axes that shares the same x-axis\n",
    "\n",
    "color = 'tab:pink'\n",
    "ax2.set_ylabel('Median Document (Log)Length', color=color)  # we already handled the x-label with ax1\n",
    "ax2.plot(t, data2,  marker = 'o', markersize = 8, color=color)\n",
    "ax2.tick_params(axis='y', labelcolor=color)\n",
    "\n",
    "fig.tight_layout()  # otherwise the right y-label is slightly clipped\n",
    "plt.title(\"MD&A Section for Information Industry\")\n",
    "plt.grid()\n",
    "plt.show()"
   ]
  },
  {
   "cell_type": "code",
   "execution_count": 325,
   "metadata": {},
   "outputs": [
    {
     "data": {
      "image/png": "[encoded data removed]",
      "text/plain": [
       "<Figure size 576x360 with 2 Axes>"
      ]
     },
     "metadata": {
      "needs_background": "light"
     },
     "output_type": "display_data"
    }
   ],
   "source": [
    "import matplotlib.ticker as ticker\n",
    "\n",
    "# create data\n",
    "doc_length = [stats_years[i][2] for i in range(len(stats_years))][::-1]\n",
    "smog_years = [stats_years[i][1] for i in range(len(stats_years))][::-1]\n",
    "fog_years = [stats_years[i][0] for i in range(len(stats_years))][::-1]\n",
    "\n",
    "t = np.array([2014,2015,2016,2017,2018,2019], dtype=np.double)\n",
    "data2 = doc_length\n",
    "data1 = smog_years\n",
    "\n",
    "fig, ax1 = plt.subplots(figsize = (8,5))\n",
    "\n",
    "# Be sure to only pick integer tick locations.\n",
    "for axis in [ax1.xaxis, ax1.yaxis]:\n",
    "    axis.set_major_locator(ticker.MaxNLocator(integer=True))\n",
    "\n",
    "color = 'tab:blue'\n",
    "ax1.set_xlabel('year')\n",
    "ax1.set_ylabel('Median Fog Index', color=color)\n",
    "ax1.plot(t, data1, marker = '^', markersize = 8,color=color)\n",
    "ax1.tick_params(axis='y', labelcolor=color)\n",
    "\n",
    "ax2 = ax1.twinx()  # instantiate a second axes that shares the same x-axis\n",
    "\n",
    "color = 'tab:green'\n",
    "ax2.set_ylabel('Median Smog Index', color=color)  # we already handled the x-label with ax1\n",
    "ax2.plot(t, data2,  marker = 's', markersize = 8, color=color)\n",
    "ax2.tick_params(axis='y', labelcolor=color)\n",
    "\n",
    "fig.tight_layout()  # otherwise the right y-label is slightly clipped\n",
    "plt.title(\"MD&A Section for Information Industry\")\n",
    "plt.grid()\n",
    "plt.show()"
   ]
  },
  {
   "cell_type": "markdown",
   "metadata": {},
   "source": [
    "## Reference:\n",
    "1) *Annual report readability, current earnings, and earnings persistence*, Feng Li, 2008   \n",
    "2) NAICS Code Documentation: www.naics.com/search/#naics"
   ]
  },
  {
   "cell_type": "code",
   "execution_count": null,
   "metadata": {},
   "outputs": [],
   "source": []
  }
 ],
 "metadata": {
  "kernelspec": {
   "display_name": "Python 3",
   "language": "python",
   "name": "python3"
  },
  "language_info": {
   "codemirror_mode": {
    "name": "ipython",
    "version": 3
   },
   "file_extension": ".py",
   "mimetype": "text/x-python",
   "name": "python",
   "nbconvert_exporter": "python",
   "pygments_lexer": "ipython3",
   "version": "3.7.3"
  }
 },
 "nbformat": 4,
 "nbformat_minor": 2
}
