{
 "cells": [
  {
   "cell_type": "markdown",
   "metadata": {},
   "source": [
    "## Overview\n",
    "Author: Chenyu Shen (Rainy)\n",
    "Last Updated: August, 16, 2020\n",
    "\n",
    "This is a Jupyter notebook for graph representation of accounting reports, following GAAP standards. Transform accounting tables into graphs. This is a preliminary graph conversion, additional complexity could be added by breaking given accounts into more accounts, and many more analysis can be done once we have the graph framework set up, using graph algorithms and graph feature selections."
   ]
  },
  {
   "cell_type": "code",
   "execution_count": 2,
   "metadata": {},
   "outputs": [],
   "source": [
    "# Set up standard python analysis framework\n",
    "import pandas as pd\n",
    "import warnings\n",
    "warnings.filterwarnings(\"ignore\")\n",
    "\n",
    "# Set up graph framework\n",
    "import networkx as nx\n",
    "import matplotlib.pyplot as plt"
   ]
  },
  {
   "cell_type": "markdown",
   "metadata": {},
   "source": [
    "## Import Data "
   ]
  },
  {
   "cell_type": "code",
   "execution_count": 4,
   "metadata": {},
   "outputs": [],
   "source": [
    "df = pd.read_csv(\"data_output/df_na_annual_13-19.csv\")"
   ]
  },
  {
   "cell_type": "code",
   "execution_count": 5,
   "metadata": {},
   "outputs": [
    {
     "data": {
      "text/plain": [
       "42985"
      ]
     },
     "execution_count": 5,
     "metadata": {},
     "output_type": "execute_result"
    }
   ],
   "source": [
    "len(df) # check data length"
   ]
  },
  {
   "cell_type": "markdown",
   "metadata": {},
   "source": [
    "## Data Preprocessing "
   ]
  },
  {
   "cell_type": "code",
   "execution_count": 6,
   "metadata": {},
   "outputs": [],
   "source": [
    "# sort by company and then by fiscal year\n",
    "df = df.sort_values(by = ['cik','fyear'])"
   ]
  },
  {
   "cell_type": "code",
   "execution_count": 7,
   "metadata": {},
   "outputs": [],
   "source": [
    "# drop not useful columns\n",
    "df.drop(columns = ['ROA','ROE','cusip','gvkey'],inplace = True)"
   ]
  },
  {
   "cell_type": "code",
   "execution_count": 9,
   "metadata": {},
   "outputs": [],
   "source": [
    "def selectCompany(company_name, begining_year, ending_year):\n",
    "    ## TODO: handling company name not find\n",
    "    ## TODO: handling accounts value not exist or = 0\n",
    "    \n",
    "    # select company\n",
    "    company = df[df.conm.str.contains(company_name.upper())]\n",
    "    # slice fiscal year for analysis\n",
    "    company = company[(company.fyear == begining_year) | (company.fyear == ending_year)]\n",
    "    company_two_years = company\n",
    "    # calculate changes of selected accounts (current year - previous year)\n",
    "    deltas = company.select_dtypes(include=['float64']).diff()\n",
    "    delta_dct = {'Cash' : 'delta_cash',\n",
    "                'NetNCAssets' : 'delta_net_nc_assets',\n",
    "                'Contributed Capital' : 'delta_contrib_e'}\n",
    "    deltas = deltas.rename(columns = delta_dct)\n",
    "    # append delta results to original dataframe\n",
    "    deltas = pd.concat([company,deltas[['delta_net_nc_assets','delta_cash','delta_contrib_e']]], axis = 1)\n",
    "    # final result of the company with delta changes in current year\n",
    "    company = deltas[(deltas['fyear'] == ending_year)]\n",
    "    \n",
    "    return company_two_years, company\n"
   ]
  },
  {
   "cell_type": "code",
   "execution_count": 10,
   "metadata": {},
   "outputs": [],
   "source": [
    "# Example: walmart\n",
    "company_name = 'walmart'\n",
    "beg_year = 2013\n",
    "end_year = 2014\n",
    "\n",
    "company_two_years, company = selectCompany(company_name,\n",
    "                                           beg_year,\n",
    "                                           end_year)\n"
   ]
  },
  {
   "cell_type": "code",
   "execution_count": 11,
   "metadata": {},
   "outputs": [
    {
     "data": {
      "text/html": [
       "<div>\n",
       "<style scoped>\n",
       "    .dataframe tbody tr th:only-of-type {\n",
       "        vertical-align: middle;\n",
       "    }\n",
       "\n",
       "    .dataframe tbody tr th {\n",
       "        vertical-align: top;\n",
       "    }\n",
       "\n",
       "    .dataframe thead th {\n",
       "        text-align: right;\n",
       "    }\n",
       "</style>\n",
       "<table border=\"1\" class=\"dataframe\">\n",
       "  <thead>\n",
       "    <tr style=\"text-align: right;\">\n",
       "      <th></th>\n",
       "      <th>cik</th>\n",
       "      <th>conm</th>\n",
       "      <th>fyear</th>\n",
       "      <th>naicsh</th>\n",
       "      <th>Net Income(Loss)</th>\n",
       "      <th>Cash</th>\n",
       "      <th>Assets - Total</th>\n",
       "      <th>Liabilities - Total</th>\n",
       "      <th>Stockholders' Equity - Total</th>\n",
       "      <th>Retained Earnings Unadjusted</th>\n",
       "      <th>Contributed Capital</th>\n",
       "      <th>Dividends - Total</th>\n",
       "      <th>NCAssets</th>\n",
       "      <th>NetNCAssets</th>\n",
       "    </tr>\n",
       "  </thead>\n",
       "  <tbody>\n",
       "    <tr>\n",
       "      <th>5736</th>\n",
       "      <td>104169</td>\n",
       "      <td>WALMART INC</td>\n",
       "      <td>2013.0</td>\n",
       "      <td>452990.0</td>\n",
       "      <td>16022.0</td>\n",
       "      <td>7281.0</td>\n",
       "      <td>204751.0</td>\n",
       "      <td>121921.0</td>\n",
       "      <td>76255.0</td>\n",
       "      <td>76566.0</td>\n",
       "      <td>311.0</td>\n",
       "      <td>6139.0</td>\n",
       "      <td>197470.0</td>\n",
       "      <td>75549.0</td>\n",
       "    </tr>\n",
       "    <tr>\n",
       "      <th>5737</th>\n",
       "      <td>104169</td>\n",
       "      <td>WALMART INC</td>\n",
       "      <td>2014.0</td>\n",
       "      <td>452990.0</td>\n",
       "      <td>16363.0</td>\n",
       "      <td>9135.0</td>\n",
       "      <td>203706.0</td>\n",
       "      <td>117769.0</td>\n",
       "      <td>81394.0</td>\n",
       "      <td>85777.0</td>\n",
       "      <td>4383.0</td>\n",
       "      <td>6185.0</td>\n",
       "      <td>194571.0</td>\n",
       "      <td>76802.0</td>\n",
       "    </tr>\n",
       "  </tbody>\n",
       "</table>\n",
       "</div>"
      ],
      "text/plain": [
       "         cik         conm   fyear    naicsh  Net Income(Loss)    Cash  \\\n",
       "5736  104169  WALMART INC  2013.0  452990.0           16022.0  7281.0   \n",
       "5737  104169  WALMART INC  2014.0  452990.0           16363.0  9135.0   \n",
       "\n",
       "      Assets - Total  Liabilities - Total  Stockholders' Equity - Total  \\\n",
       "5736        204751.0             121921.0                       76255.0   \n",
       "5737        203706.0             117769.0                       81394.0   \n",
       "\n",
       "      Retained Earnings Unadjusted  Contributed Capital  Dividends - Total  \\\n",
       "5736                       76566.0                311.0             6139.0   \n",
       "5737                       85777.0               4383.0             6185.0   \n",
       "\n",
       "      NCAssets  NetNCAssets  \n",
       "5736  197470.0      75549.0  \n",
       "5737  194571.0      76802.0  "
      ]
     },
     "execution_count": 11,
     "metadata": {},
     "output_type": "execute_result"
    }
   ],
   "source": [
    "company_two_years # current year & base year's data"
   ]
  },
  {
   "cell_type": "code",
   "execution_count": 13,
   "metadata": {},
   "outputs": [
    {
     "data": {
      "text/html": [
       "<div>\n",
       "<style scoped>\n",
       "    .dataframe tbody tr th:only-of-type {\n",
       "        vertical-align: middle;\n",
       "    }\n",
       "\n",
       "    .dataframe tbody tr th {\n",
       "        vertical-align: top;\n",
       "    }\n",
       "\n",
       "    .dataframe thead th {\n",
       "        text-align: right;\n",
       "    }\n",
       "</style>\n",
       "<table border=\"1\" class=\"dataframe\">\n",
       "  <thead>\n",
       "    <tr style=\"text-align: right;\">\n",
       "      <th></th>\n",
       "      <th>cik</th>\n",
       "      <th>conm</th>\n",
       "      <th>fyear</th>\n",
       "      <th>naicsh</th>\n",
       "      <th>Net Income(Loss)</th>\n",
       "      <th>Cash</th>\n",
       "      <th>Assets - Total</th>\n",
       "      <th>Liabilities - Total</th>\n",
       "      <th>Stockholders' Equity - Total</th>\n",
       "      <th>Retained Earnings Unadjusted</th>\n",
       "      <th>Contributed Capital</th>\n",
       "      <th>Dividends - Total</th>\n",
       "      <th>NCAssets</th>\n",
       "      <th>NetNCAssets</th>\n",
       "      <th>delta_net_nc_assets</th>\n",
       "      <th>delta_cash</th>\n",
       "      <th>delta_contrib_e</th>\n",
       "    </tr>\n",
       "  </thead>\n",
       "  <tbody>\n",
       "    <tr>\n",
       "      <th>5737</th>\n",
       "      <td>104169</td>\n",
       "      <td>WALMART INC</td>\n",
       "      <td>2014.0</td>\n",
       "      <td>452990.0</td>\n",
       "      <td>16363.0</td>\n",
       "      <td>9135.0</td>\n",
       "      <td>203706.0</td>\n",
       "      <td>117769.0</td>\n",
       "      <td>81394.0</td>\n",
       "      <td>85777.0</td>\n",
       "      <td>4383.0</td>\n",
       "      <td>6185.0</td>\n",
       "      <td>194571.0</td>\n",
       "      <td>76802.0</td>\n",
       "      <td>1253.0</td>\n",
       "      <td>1854.0</td>\n",
       "      <td>4072.0</td>\n",
       "    </tr>\n",
       "  </tbody>\n",
       "</table>\n",
       "</div>"
      ],
      "text/plain": [
       "         cik         conm   fyear    naicsh  Net Income(Loss)    Cash  \\\n",
       "5737  104169  WALMART INC  2014.0  452990.0           16363.0  9135.0   \n",
       "\n",
       "      Assets - Total  Liabilities - Total  Stockholders' Equity - Total  \\\n",
       "5737        203706.0             117769.0                       81394.0   \n",
       "\n",
       "      Retained Earnings Unadjusted  Contributed Capital  Dividends - Total  \\\n",
       "5737                       85777.0               4383.0             6185.0   \n",
       "\n",
       "      NCAssets  NetNCAssets  delta_net_nc_assets  delta_cash  delta_contrib_e  \n",
       "5737  194571.0      76802.0               1253.0      1854.0           4072.0  "
      ]
     },
     "execution_count": 13,
     "metadata": {},
     "output_type": "execute_result"
    }
   ],
   "source": [
    "company # current year (end_year)"
   ]
  },
  {
   "cell_type": "markdown",
   "metadata": {},
   "source": [
    "## Graph Representation"
   ]
  },
  {
   "cell_type": "markdown",
   "metadata": {},
   "source": [
    "### Convert accounting tables into graph\n",
    "Convert accounts and values into nodes and edges, and generate graph using NetworkX. The graph generation follows the GAAP rule."
   ]
  },
  {
   "cell_type": "code",
   "execution_count": 11,
   "metadata": {},
   "outputs": [],
   "source": [
    "def simpleGraphParam(company_name, beg_year, end_year):\n",
    "    # select company's data\n",
    "    company_two_years, company = selectCompany(company_name,\n",
    "                                           beg_year,\n",
    "                                           end_year)\n",
    "    \n",
    "    nodes = ['delta_cash',\n",
    "        'delta_net_nc_assets',\n",
    "        'delta_contrib_e',\n",
    "        'Dividends - Total',\n",
    "        'Net Income(Loss)']\n",
    "    \n",
    "    # values of each node\n",
    "    # formula: \n",
    "    # delta_cash + delta_net_nc_assets - delta_contrib_e - Net Income + Div = 0\n",
    "    nodes_value = {}\n",
    "    for n in nodes:\n",
    "        nodes_value[n] = float(company[n])\n",
    "        if n == 'delta_contrib_e' or n == 'Net Income(Loss)':\n",
    "            nodes_value[n] = -float(company[n])\n",
    "\n",
    "    # create label for visualization purpuse\n",
    "    nodes_label = {k:k+'\\n'+str(v) for k,v in nodes_value.items()}\n",
    "    \n",
    "    # formula: \n",
    "    # delta_cash + delta_net_nc_assets - delta_contrib_e - Net Income + Div = 0\n",
    "    edges = [('delta_cash','delta_contrib_e',\n",
    "              {'weight': float(company['delta_contrib_e'])}),\n",
    "            ('delta_cash', 'Dividends - Total',\n",
    "            {'weight': float(company['Dividends - Total'])}),\n",
    "            ('Net Income(Loss)', 'delta_net_nc_assets',\n",
    "            {'weight' : float(company['Net Income(Loss)'])}),\n",
    "            ('delta_net_nc_assets', 'delta_cash',\n",
    "            {'weight' : float(company['Dividends - Total']) + \n",
    "                            float(company['delta_contrib_e']) +\n",
    "                            float(company['delta_cash'])})]\n",
    "    \n",
    "    return nodes, nodes_label, edges\n"
   ]
  },
  {
   "cell_type": "code",
   "execution_count": 41,
   "metadata": {},
   "outputs": [],
   "source": [
    "def genGraph(nodes, edges):\n",
    "    # instantiate a new directed graph instance\n",
    "    G = nx.DiGraph()\n",
    "    G.clear()\n",
    "    G.add_nodes_from(nodes)\n",
    "    G.add_edges_from(edges)\n",
    "    \n",
    "    return G"
   ]
  },
  {
   "cell_type": "code",
   "execution_count": 13,
   "metadata": {},
   "outputs": [],
   "source": [
    "nodes, nodes_label, edges = simpleGraphParam('walmart', 2013, 2014)"
   ]
  },
  {
   "cell_type": "code",
   "execution_count": 14,
   "metadata": {},
   "outputs": [],
   "source": [
    "G = genGraph(nodes,edges)"
   ]
  },
  {
   "cell_type": "markdown",
   "metadata": {},
   "source": [
    "### Visualization "
   ]
  },
  {
   "cell_type": "code",
   "execution_count": 15,
   "metadata": {},
   "outputs": [
    {
     "data": {
      "image/png": "[encoded data removed]",
      "text/plain": [
       "<Figure size 720x432 with 1 Axes>"
      ]
     },
     "metadata": {},
     "output_type": "display_data"
    }
   ],
   "source": [
    "# Graph visualization\n",
    "\n",
    "# graph nodes arrangement\n",
    "plt.figure(figsize = (10,6))\n",
    "pos = nx.circular_layout(G) \n",
    "# pos = nx.spring_layout(G)\n",
    "# draw graph\n",
    "nx.draw(G, pos,node_size = 500, \n",
    "        width = 2,\n",
    "        arrow_style = 'fancy',\n",
    "        node_color = 'tab:green',\n",
    "        arrow_size = 60,\n",
    "        font_size = 10,\n",
    "        labels = nodes_label\n",
    "       )\n",
    "# draw edges with weight\n",
    "labels = nx.get_edge_attributes(G,'weight')\n",
    "nx.draw_networkx_edge_labels(G,pos,edge_labels=labels)\n",
    "\n",
    "plt.draw()\n",
    "plt.title(\"Graph Representation of Financial Statement: {}, {} - {}\"\n",
    "         .format(company_name.upper(), beg_year, end_year))\n",
    "plt.show()\n"
   ]
  },
  {
   "cell_type": "markdown",
   "metadata": {},
   "source": [
    "### Bringing in Income Statement \n",
    "Add one more layer of complexity from previous graph by brining in the income statements. Specifically, break the Net Income accounts into Revenue, and Expenses accounts as reflected in the income statemsnts."
   ]
  },
  {
   "cell_type": "code",
   "execution_count": 55,
   "metadata": {},
   "outputs": [],
   "source": [
    "# Get Walmart's performance from fiscal year 2013 - 2019, with selected income statement accounts.\n",
    "df = pd.read_csv('data_output/df_na_annual_13-19_walmart.csv')"
   ]
  },
  {
   "cell_type": "code",
   "execution_count": 56,
   "metadata": {},
   "outputs": [],
   "source": [
    "# Data processing to get data ready for analysis\n",
    "\n",
    "# slice fiscal year for analysis\n",
    "company = df[(df.fyear == 2013) | (df.fyear == 2014)]\n",
    "\n",
    "# calculate changes of selected accounts (current year - previous year)\n",
    "deltas = company.select_dtypes(include=['float64']).diff()\n",
    "\n",
    "# restructure the dataframe with deltas\n",
    "delta_dct = {'Cash' : 'delta_cash',\n",
    "            'NetNCAssets' : 'delta_net_nc_assets',\n",
    "            'Contributed Capital' : 'delta_contrib_e'}\n",
    "deltas = deltas.rename(columns = delta_dct)\n",
    "# append delta results to original dataframe\n",
    "deltas = pd.concat([company,deltas[['delta_net_nc_assets','delta_cash','delta_contrib_e']]], axis = 1)\n",
    "    \n",
    "# final result ready for graph conversion\n",
    "company = deltas[(deltas['fyear'] == 2014)]\n",
    "\n",
    "# calculate expense\n",
    "company['Expenses'] = company['Net Income(Loss)'] + company['Revenue - Total'] - company['Interest and Related Expense - Total'] - company['Income Taxes - Total']\n",
    "\n"
   ]
  },
  {
   "cell_type": "code",
   "execution_count": 57,
   "metadata": {},
   "outputs": [
    {
     "data": {
      "text/plain": [
       "(Index(['cik', 'conm', 'fyear', 'naicsh', 'Revenue - Total',\n",
       "        'Income Taxes - Total', 'Operating Expenses Total',\n",
       "        'Interest and Related Expense - Total', 'Net Income(Loss)', 'Cash',\n",
       "        'Assets - Total', 'Liabilities - Total', 'Stockholders' Equity - Total',\n",
       "        'Retained Earnings Unadjusted', 'Contributed Capital',\n",
       "        'Dividends - Total', 'NCAssets', 'NetNCAssets', 'ROA', 'ROE',\n",
       "        'delta_net_nc_assets', 'delta_cash', 'delta_contrib_e', 'Expenses'],\n",
       "       dtype='object'), 1)"
      ]
     },
     "execution_count": 57,
     "metadata": {},
     "output_type": "execute_result"
    }
   ],
   "source": [
    "company.columns, len(company)"
   ]
  },
  {
   "cell_type": "code",
   "execution_count": 58,
   "metadata": {},
   "outputs": [],
   "source": [
    "nodes = ['delta_cash',\n",
    "        'delta_net_nc_assets',\n",
    "        'delta_contrib_e',\n",
    "        'Dividends - Total',\n",
    "        'Revenue - Total',\n",
    "         'Expenses',\n",
    "         'Interest and Related Expense - Total',\n",
    "        'Income Taxes - Total'\n",
    "        ]"
   ]
  },
  {
   "cell_type": "code",
   "execution_count": 59,
   "metadata": {},
   "outputs": [
    {
     "data": {
      "text/plain": [
       "({'delta_cash': 'delta_cash\\n1854.0',\n",
       "  'delta_net_nc_assets': 'delta_net_nc_assets\\n1253.0',\n",
       "  'delta_contrib_e': 'delta_contrib_e\\n-4072.0',\n",
       "  'Dividends - Total': 'Dividends - Total\\n6185.0',\n",
       "  'Revenue - Total': 'Revenue - Total\\n-483521.0',\n",
       "  'Expenses': 'Expenses\\n489379.0',\n",
       "  'Interest and Related Expense - Total': 'Interest and Related Expense - Total\\n2520.0',\n",
       "  'Income Taxes - Total': 'Income Taxes - Total\\n7985.0'},\n",
       " {'delta_cash': 1854.0,\n",
       "  'delta_net_nc_assets': 1253.0,\n",
       "  'delta_contrib_e': -4072.0,\n",
       "  'Dividends - Total': 6185.0,\n",
       "  'Revenue - Total': -483521.0,\n",
       "  'Expenses': 489379.0,\n",
       "  'Interest and Related Expense - Total': 2520.0,\n",
       "  'Income Taxes - Total': 7985.0})"
      ]
     },
     "execution_count": 59,
     "metadata": {},
     "output_type": "execute_result"
    }
   ],
   "source": [
    "nodes_value = {}\n",
    "for n in nodes:\n",
    "    nodes_value[n] = float(company[n])\n",
    "    if n == 'delta_contrib_e' or n == 'Revenue - Total':\n",
    "        nodes_value[n] = -float(company[n])\n",
    "        \n",
    "# create label for visualization purpuse\n",
    "nodes_label = {k:k+'\\n'+str(v) for k,v in nodes_value.items()}\n",
    "\n",
    "nodes_label, nodes_value"
   ]
  },
  {
   "cell_type": "code",
   "execution_count": 61,
   "metadata": {},
   "outputs": [],
   "source": [
    "edges = [('delta_cash','delta_contrib_e',\n",
    "          {'weight': float(company['delta_contrib_e'])}),\n",
    "\n",
    "        ('delta_cash', 'Dividends - Total',\n",
    "        {'weight': float(company['Dividends - Total'])}),\n",
    "        \n",
    "        ('delta_net_nc_assets', 'delta_cash',\n",
    "        {'weight' : float(company['Dividends - Total']) + \n",
    "                        float(company['delta_contrib_e']) +\n",
    "                        float(company['delta_cash'])}),\n",
    "         \n",
    "        ('Revenue - Total', 'delta_net_nc_assets',\n",
    "        {'weight' : float(company['Revenue - Total'])}),\n",
    "         \n",
    "        ('delta_net_nc_assets','Expenses',\n",
    "        {'weight' : -float(company['Expenses'])}),\n",
    "         \n",
    "        ('delta_net_nc_assets', 'Interest and Related Expense - Total',\n",
    "        {'weight' : -float(company['Interest and Related Expense - Total'])}),\n",
    "         \n",
    "        ('delta_net_nc_assets', 'Income Taxes - Total',\n",
    "        {'weight' : -float(company['Income Taxes - Total'])}),\n",
    "         \n",
    "        ('delta_cash', 'delta_net_nc_assets'),\n",
    "        ('delta_cash', 'delta_net_nc_assets'),\n",
    "        ('delta_cash', 'delta_net_nc_assets')]\n"
   ]
  },
  {
   "cell_type": "code",
   "execution_count": 65,
   "metadata": {},
   "outputs": [],
   "source": [
    "G = genGraph(nodes,edges) # generate a NetworkX graph with encoded nodes and edges"
   ]
  },
  {
   "cell_type": "code",
   "execution_count": 66,
   "metadata": {},
   "outputs": [
    {
     "data": {
      "image/png": "[encoded data removed]",
      "text/plain": [
       "<Figure size 432x288 with 1 Axes>"
      ]
     },
     "metadata": {},
     "output_type": "display_data"
    }
   ],
   "source": [
    "# graph nodes arrangement\n",
    "pos = nx.circular_layout(G) \n",
    "# pos = nx.spring_layout(G)\n",
    "# draw graph\n",
    "nx.draw(G, pos,node_size = 500, \n",
    "        width = 2,\n",
    "        arrow_style = 'fancy',\n",
    "        node_color = 'tab:green',\n",
    "        arrow_size = 60,\n",
    "        font_size = 10,\n",
    "        labels = nodes_label\n",
    "       )\n",
    "# draw edges with weight\n",
    "labels = nx.get_edge_attributes(G,'weight')\n",
    "nx.draw_networkx_edge_labels(G,pos,edge_labels=labels)\n",
    "\n",
    "plt.draw()"
   ]
  },
  {
   "cell_type": "markdown",
   "metadata": {},
   "source": [
    "### Validation\n",
    "Some simple validation process of the graph generated, to make sure the data integrity and follows the GAAP rule. Iterate the graph (nodes and edges) to implement the validation."
   ]
  },
  {
   "cell_type": "code",
   "execution_count": 109,
   "metadata": {},
   "outputs": [
    {
     "name": "stdout",
     "output_type": "stream",
     "text": [
      "True\n"
     ]
    }
   ],
   "source": [
    "# Validation\n",
    "\n",
    "# checks the Income Statement\n",
    "total_exp = 0\n",
    "total_rev = 0\n",
    "\n",
    "for u,v,weight in G.edges(data = True):\n",
    "    \n",
    "    if u == 'Revenue - Total':\n",
    "        total_rev += float(weight['weight'])\n",
    "    elif v == 'Income Taxes - Total' or v == 'Expenses' or v == 'Interest and Related Expense - Total':\n",
    "        total_exp += float(weight['weight'])\n",
    "        \n",
    "# check if expense and revenue adds up to company's net income (absolute value) of that year\n",
    "if abs(total_exp + total_rev) == abs(float(company['Net Income(Loss)'])):\n",
    "    print(True)"
   ]
  },
  {
   "cell_type": "code",
   "execution_count": 100,
   "metadata": {},
   "outputs": [
    {
     "data": {
      "text/plain": [
       "(483521.0, -499884.0)"
      ]
     },
     "execution_count": 100,
     "metadata": {},
     "output_type": "execute_result"
    }
   ],
   "source": [
    "total_rev, total_exp"
   ]
  },
  {
   "cell_type": "code",
   "execution_count": 110,
   "metadata": {},
   "outputs": [
    {
     "data": {
      "text/plain": [
       "16363.0"
      ]
     },
     "execution_count": 110,
     "metadata": {},
     "output_type": "execute_result"
    }
   ],
   "source": [
    "float(company['Net Income(Loss)'])"
   ]
  },
  {
   "cell_type": "markdown",
   "metadata": {},
   "source": [
    "## Reference:\n",
    "1) NetworkX documentations and tutorial:\n",
    "https://networkx.github.io/documentation/stable/tutorial.html  \n",
    "2) GraphRepresentationOfFinStatements.pptx by Professor Pierre Liang"
   ]
  },
  {
   "cell_type": "code",
   "execution_count": null,
   "metadata": {},
   "outputs": [],
   "source": []
  }
 ],
 "metadata": {
  "kernelspec": {
   "display_name": "Python 3",
   "language": "python",
   "name": "python3"
  },
  "language_info": {
   "codemirror_mode": {
    "name": "ipython",
    "version": 3
   },
   "file_extension": ".py",
   "mimetype": "text/x-python",
   "name": "python",
   "nbconvert_exporter": "python",
   "pygments_lexer": "ipython3",
   "version": "3.7.3"
  }
 },
 "nbformat": 4,
 "nbformat_minor": 2
}
