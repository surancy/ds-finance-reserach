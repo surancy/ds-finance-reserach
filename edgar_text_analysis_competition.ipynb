{
 "cells": [
  {
   "cell_type": "markdown",
   "metadata": {},
   "source": [
    "# Text based competition relationship among companies\n",
    "\n",
    "### Overview\n",
    "\n",
    "Author: Chenyu Shen (Rainy)\n",
    "Date: August 16, 2020\n",
    "\n",
    "This notebook explores the possibilities of representing the competition relationship among companies by analyzing the text similarities among companies' product description written in 10-K statements. The goal is to generate a dynammic competition relationship that reflects what the company describes itself, instead of following the static given industry codes like NAICS. \n",
    "\n",
    "Please refer to the documentation of this Jupyter notebook: \"Documentation - Text Similarity\" for more details."
   ]
  },
  {
   "cell_type": "code",
   "execution_count": 1,
   "metadata": {},
   "outputs": [],
   "source": [
    "# Set up data mining library of Edgar\n",
    "import edgar\n",
    "from edgar import Company\n",
    "from bs4 import BeautifulSoup\n",
    "from edgar import Company, TXTML, XBRL, XBRLElement\n",
    "\n",
    "# Set up python standard analytics frameworks\n",
    "import pandas as pd\n",
    "import numpy as np\n",
    "from numpy import dot\n",
    "from numpy.linalg import norm\n",
    "import re\n",
    "import unicodedata\n",
    "from collections import Counter\n",
    "from collections import defaultdict\n",
    "\n",
    "# NLP framworks\n",
    "from gensim import corpora\n",
    "import gensim\n",
    "\n",
    "# Visualization\n",
    "import matplotlib\n",
    "from matplotlib import pyplot as plt\n",
    "import warnings\n",
    "warnings.filterwarnings(\"ignore\")\n",
    "\n",
    "# Store/read data to pickle file (cache file)\n",
    "import pickle\n"
   ]
  },
  {
   "cell_type": "markdown",
   "metadata": {},
   "source": [
    "## Preprocess Compustats data "
   ]
  },
  {
   "cell_type": "code",
   "execution_count": 7,
   "metadata": {},
   "outputs": [],
   "source": [
    "# import data\n",
    "df = pd.read_csv(\"data_output/df_na_annual_15-19.csv\")"
   ]
  },
  {
   "cell_type": "code",
   "execution_count": 8,
   "metadata": {},
   "outputs": [
    {
     "name": "stdout",
     "output_type": "stream",
     "text": [
      "number of companies in this dataset 8437\n"
     ]
    },
    {
     "data": {
      "text/html": [
       "<div>\n",
       "<style scoped>\n",
       "    .dataframe tbody tr th:only-of-type {\n",
       "        vertical-align: middle;\n",
       "    }\n",
       "\n",
       "    .dataframe tbody tr th {\n",
       "        vertical-align: top;\n",
       "    }\n",
       "\n",
       "    .dataframe thead th {\n",
       "        text-align: right;\n",
       "    }\n",
       "</style>\n",
       "<table border=\"1\" class=\"dataframe\">\n",
       "  <thead>\n",
       "    <tr style=\"text-align: right;\">\n",
       "      <th></th>\n",
       "      <th>gvkey</th>\n",
       "      <th>cik</th>\n",
       "      <th>cusip</th>\n",
       "      <th>conm</th>\n",
       "      <th>fyear</th>\n",
       "      <th>naicsh</th>\n",
       "      <th>Net Income(Loss)</th>\n",
       "      <th>Assets - Total</th>\n",
       "      <th>Stockholders' Equity - Total</th>\n",
       "      <th>ROA</th>\n",
       "      <th>ROE</th>\n",
       "    </tr>\n",
       "  </thead>\n",
       "  <tbody>\n",
       "    <tr>\n",
       "      <th>0</th>\n",
       "      <td>1004</td>\n",
       "      <td>1750</td>\n",
       "      <td>000361105</td>\n",
       "      <td>AAR CORP</td>\n",
       "      <td>2014.0</td>\n",
       "      <td>423860.0</td>\n",
       "      <td>10.2</td>\n",
       "      <td>1515.0</td>\n",
       "      <td>845.1</td>\n",
       "      <td>0.006733</td>\n",
       "      <td>0.012070</td>\n",
       "    </tr>\n",
       "    <tr>\n",
       "      <th>1</th>\n",
       "      <td>1004</td>\n",
       "      <td>1750</td>\n",
       "      <td>000361105</td>\n",
       "      <td>AAR CORP</td>\n",
       "      <td>2015.0</td>\n",
       "      <td>423860.0</td>\n",
       "      <td>47.7</td>\n",
       "      <td>1442.1</td>\n",
       "      <td>865.8</td>\n",
       "      <td>0.033077</td>\n",
       "      <td>0.055094</td>\n",
       "    </tr>\n",
       "    <tr>\n",
       "      <th>2</th>\n",
       "      <td>1004</td>\n",
       "      <td>1750</td>\n",
       "      <td>000361105</td>\n",
       "      <td>AAR CORP</td>\n",
       "      <td>2016.0</td>\n",
       "      <td>423860.0</td>\n",
       "      <td>56.5</td>\n",
       "      <td>1504.1</td>\n",
       "      <td>914.2</td>\n",
       "      <td>0.037564</td>\n",
       "      <td>0.061803</td>\n",
       "    </tr>\n",
       "    <tr>\n",
       "      <th>3</th>\n",
       "      <td>1004</td>\n",
       "      <td>1750</td>\n",
       "      <td>000361105</td>\n",
       "      <td>AAR CORP</td>\n",
       "      <td>2017.0</td>\n",
       "      <td>423860.0</td>\n",
       "      <td>15.6</td>\n",
       "      <td>1524.7</td>\n",
       "      <td>936.3</td>\n",
       "      <td>0.010232</td>\n",
       "      <td>0.016661</td>\n",
       "    </tr>\n",
       "    <tr>\n",
       "      <th>4</th>\n",
       "      <td>1004</td>\n",
       "      <td>1750</td>\n",
       "      <td>000361105</td>\n",
       "      <td>AAR CORP</td>\n",
       "      <td>2018.0</td>\n",
       "      <td>423860.0</td>\n",
       "      <td>7.5</td>\n",
       "      <td>1517.2</td>\n",
       "      <td>905.9</td>\n",
       "      <td>0.004943</td>\n",
       "      <td>0.008279</td>\n",
       "    </tr>\n",
       "  </tbody>\n",
       "</table>\n",
       "</div>"
      ],
      "text/plain": [
       "   gvkey   cik      cusip      conm   fyear    naicsh  Net Income(Loss)  \\\n",
       "0   1004  1750  000361105  AAR CORP  2014.0  423860.0              10.2   \n",
       "1   1004  1750  000361105  AAR CORP  2015.0  423860.0              47.7   \n",
       "2   1004  1750  000361105  AAR CORP  2016.0  423860.0              56.5   \n",
       "3   1004  1750  000361105  AAR CORP  2017.0  423860.0              15.6   \n",
       "4   1004  1750  000361105  AAR CORP  2018.0  423860.0               7.5   \n",
       "\n",
       "   Assets - Total  Stockholders' Equity - Total       ROA       ROE  \n",
       "0          1515.0                         845.1  0.006733  0.012070  \n",
       "1          1442.1                         865.8  0.033077  0.055094  \n",
       "2          1504.1                         914.2  0.037564  0.061803  \n",
       "3          1524.7                         936.3  0.010232  0.016661  \n",
       "4          1517.2                         905.9  0.004943  0.008279  "
      ]
     },
     "execution_count": 8,
     "metadata": {},
     "output_type": "execute_result"
    }
   ],
   "source": [
    "# Data Inspection\n",
    "print(\"number of companies in this dataset {}\".format(len(df['cik'].unique())))\n",
    "df.head()"
   ]
  },
  {
   "cell_type": "code",
   "execution_count": 9,
   "metadata": {},
   "outputs": [],
   "source": [
    "# Assign naics industry code super class to each row. \n",
    "naics = df['naicsh'].to_list()\n",
    "naics = [str(e)[:2] for e in naics]\n",
    "df['naics_super'] = naics"
   ]
  },
  {
   "cell_type": "code",
   "execution_count": 10,
   "metadata": {},
   "outputs": [
    {
     "data": {
      "text/plain": [
       "(5519, 5519)"
      ]
     },
     "execution_count": 10,
     "metadata": {},
     "output_type": "execute_result"
    }
   ],
   "source": [
    "# Filter out companies that does not contain records of 2019 fiscal year\n",
    "df = df[(df.fyear == 2019)]\n",
    "len(df),len(df.cik.unique())"
   ]
  },
  {
   "cell_type": "code",
   "execution_count": 11,
   "metadata": {},
   "outputs": [
    {
     "data": {
      "text/html": [
       "<div>\n",
       "<style scoped>\n",
       "    .dataframe tbody tr th:only-of-type {\n",
       "        vertical-align: middle;\n",
       "    }\n",
       "\n",
       "    .dataframe tbody tr th {\n",
       "        vertical-align: top;\n",
       "    }\n",
       "\n",
       "    .dataframe thead th {\n",
       "        text-align: right;\n",
       "    }\n",
       "</style>\n",
       "<table border=\"1\" class=\"dataframe\">\n",
       "  <thead>\n",
       "    <tr style=\"text-align: right;\">\n",
       "      <th></th>\n",
       "      <th>gvkey</th>\n",
       "      <th>cik</th>\n",
       "      <th>cusip</th>\n",
       "      <th>conm</th>\n",
       "      <th>fyear</th>\n",
       "      <th>naicsh</th>\n",
       "      <th>Net Income(Loss)</th>\n",
       "      <th>Assets - Total</th>\n",
       "      <th>Stockholders' Equity - Total</th>\n",
       "      <th>ROA</th>\n",
       "      <th>ROE</th>\n",
       "      <th>naics_super</th>\n",
       "    </tr>\n",
       "  </thead>\n",
       "  <tbody>\n",
       "    <tr>\n",
       "      <th>30029</th>\n",
       "      <td>160329</td>\n",
       "      <td>1652044</td>\n",
       "      <td>02079K305</td>\n",
       "      <td>ALPHABET INC</td>\n",
       "      <td>2019.0</td>\n",
       "      <td>518210.0</td>\n",
       "      <td>34343.0</td>\n",
       "      <td>275909.0</td>\n",
       "      <td>201442.0</td>\n",
       "      <td>0.124472</td>\n",
       "      <td>0.170486</td>\n",
       "      <td>51</td>\n",
       "    </tr>\n",
       "  </tbody>\n",
       "</table>\n",
       "</div>"
      ],
      "text/plain": [
       "        gvkey      cik      cusip          conm   fyear    naicsh  \\\n",
       "30029  160329  1652044  02079K305  ALPHABET INC  2019.0  518210.0   \n",
       "\n",
       "       Net Income(Loss)  Assets - Total  Stockholders' Equity - Total  \\\n",
       "30029           34343.0        275909.0                      201442.0   \n",
       "\n",
       "            ROA       ROE naics_super  \n",
       "30029  0.124472  0.170486          51  "
      ]
     },
     "execution_count": 11,
     "metadata": {},
     "output_type": "execute_result"
    }
   ],
   "source": [
    "# Check some individual companies\n",
    "\n",
    "# check by company name\n",
    "df[df.conm.str.contains(\"ALPHABET\")]"
   ]
  },
  {
   "cell_type": "code",
   "execution_count": 12,
   "metadata": {},
   "outputs": [
    {
     "data": {
      "text/plain": [
       "(23, naics_super\n",
       " 11      11\n",
       " 21     316\n",
       " 22     211\n",
       " 23      62\n",
       " 31     135\n",
       " 32    1001\n",
       " 33     974\n",
       " 42     128\n",
       " 44      95\n",
       " 45      66\n",
       " 48     151\n",
       " 49       3\n",
       " 51     575\n",
       " 52     944\n",
       " 53     302\n",
       " 54     147\n",
       " 56      84\n",
       " 61      35\n",
       " 62      68\n",
       " 71      30\n",
       " 72      81\n",
       " 81       9\n",
       " 99      91\n",
       " dtype: int64)"
      ]
     },
     "execution_count": 12,
     "metadata": {},
     "output_type": "execute_result"
    }
   ],
   "source": [
    "# Check number of companies in each industry code\n",
    "group = df.groupby('naics_super')\n",
    "len(group),group.size()"
   ]
  },
  {
   "cell_type": "code",
   "execution_count": 13,
   "metadata": {},
   "outputs": [],
   "source": [
    "# Prepare a company code and name look up dictionary: company_codes {cik:name}\n",
    "\n",
    "# list of cik\n",
    "cik_lst = df['cik'].to_list()\n",
    "cik_lst = [str(int(w)) for w in cik_lst]\n",
    "# list of company names\n",
    "conm_lst = df['conm'].to_list()\n",
    "# populate dictionary\n",
    "company_codes = dict(zip(cik_lst,conm_lst))"
   ]
  },
  {
   "cell_type": "code",
   "execution_count": 14,
   "metadata": {},
   "outputs": [],
   "source": [
    "# Industry NAICS code and category name lookup dict industry_dct {naics:category}\n",
    "# reference: https://www.naics.com/search/#naics\n",
    "\n",
    "industry_dct = {\n",
    "    '11' : 'Agriculture, Forestry, Fishing and Hunting',\n",
    "    '21' : 'Mining',\n",
    "    '22' : 'Utilities',\n",
    "    '23' : 'Construction',\n",
    "    '31' : 'Manufacturing',\n",
    "    '32' : 'Manufacturing',\n",
    "    '33' : 'Manufacturing',\n",
    "    '42' : 'Wholesale Trade',\n",
    "    '44' : 'Retail Trade',\n",
    "    '45' : 'Retail Trade',\n",
    "    '48' : 'Transportation and Warehousing',\n",
    "    '49' : 'Transportation and Warehousing',\n",
    "    '51' : 'Information',\n",
    "    '52' : 'Finance and Insurance',\n",
    "    '53' : 'Real Estate Rental and Leasing',\n",
    "    '54' : 'Professional, Scientific, and Technical Services',\n",
    "    '55' : 'Management of Companies and Enterprises',\n",
    "    '56' : 'Administrative and Support and Waste Management and Remediation Services',\n",
    "    '61' : 'Educational Services',\n",
    "    '62' : 'Health Care and Social Assistance',\n",
    "    '71' : 'Arts, Entertainment, and Recreation',\n",
    "    '72' : 'Accommodation and Food Services',\n",
    "    '81' : 'Other Services (except Public Administration)',\n",
    "    '92' : 'Public Administration'\n",
    "}\n"
   ]
  },
  {
   "cell_type": "code",
   "execution_count": 15,
   "metadata": {},
   "outputs": [
    {
     "data": {
      "text/plain": [
       "(5519, 24)"
      ]
     },
     "execution_count": 15,
     "metadata": {},
     "output_type": "execute_result"
    }
   ],
   "source": [
    "len(company_codes), len(industry_dct)"
   ]
  },
  {
   "cell_type": "code",
   "execution_count": 17,
   "metadata": {},
   "outputs": [
    {
     "name": "stdout",
     "output_type": "stream",
     "text": [
      "number of companies in Information (NAICS code starts with 51): 575\n"
     ]
    }
   ],
   "source": [
    "# select companies in specific industry\n",
    "select_code = '51'\n",
    "df_industry = df[(df['naics_super'].str.startswith(select_code))]\n",
    "print(\"number of companies in {} (NAICS code starts with {}): {}\"\n",
    "      .format(industry_dct[select_code],select_code,len(df_industry.cik.unique())))\n"
   ]
  },
  {
   "cell_type": "code",
   "execution_count": 18,
   "metadata": {},
   "outputs": [
    {
     "data": {
      "text/html": [
       "<div>\n",
       "<style scoped>\n",
       "    .dataframe tbody tr th:only-of-type {\n",
       "        vertical-align: middle;\n",
       "    }\n",
       "\n",
       "    .dataframe tbody tr th {\n",
       "        vertical-align: top;\n",
       "    }\n",
       "\n",
       "    .dataframe thead th {\n",
       "        text-align: right;\n",
       "    }\n",
       "</style>\n",
       "<table border=\"1\" class=\"dataframe\">\n",
       "  <thead>\n",
       "    <tr style=\"text-align: right;\">\n",
       "      <th></th>\n",
       "      <th>gvkey</th>\n",
       "      <th>cik</th>\n",
       "      <th>fyear</th>\n",
       "      <th>naicsh</th>\n",
       "      <th>Net Income(Loss)</th>\n",
       "      <th>Assets - Total</th>\n",
       "      <th>Stockholders' Equity - Total</th>\n",
       "      <th>ROA</th>\n",
       "      <th>ROE</th>\n",
       "    </tr>\n",
       "    <tr>\n",
       "      <th>conm</th>\n",
       "      <th></th>\n",
       "      <th></th>\n",
       "      <th></th>\n",
       "      <th></th>\n",
       "      <th></th>\n",
       "      <th></th>\n",
       "      <th></th>\n",
       "      <th></th>\n",
       "      <th></th>\n",
       "    </tr>\n",
       "  </thead>\n",
       "  <tbody>\n",
       "    <tr>\n",
       "      <th>AT&amp;T INC</th>\n",
       "      <td>9899</td>\n",
       "      <td>732717</td>\n",
       "      <td>2019.0</td>\n",
       "      <td>517312.0</td>\n",
       "      <td>13903.0</td>\n",
       "      <td>551669.0</td>\n",
       "      <td>184221.0</td>\n",
       "      <td>0.025202</td>\n",
       "      <td>0.075469</td>\n",
       "    </tr>\n",
       "    <tr>\n",
       "      <th>VERIZON COMMUNICATIONS INC</th>\n",
       "      <td>2136</td>\n",
       "      <td>732712</td>\n",
       "      <td>2019.0</td>\n",
       "      <td>517312.0</td>\n",
       "      <td>19265.0</td>\n",
       "      <td>291727.0</td>\n",
       "      <td>61395.0</td>\n",
       "      <td>0.066038</td>\n",
       "      <td>0.313788</td>\n",
       "    </tr>\n",
       "    <tr>\n",
       "      <th>MICROSOFT CORP</th>\n",
       "      <td>12141</td>\n",
       "      <td>789019</td>\n",
       "      <td>2019.0</td>\n",
       "      <td>511210.0</td>\n",
       "      <td>39240.0</td>\n",
       "      <td>286556.0</td>\n",
       "      <td>102330.0</td>\n",
       "      <td>0.136937</td>\n",
       "      <td>0.383465</td>\n",
       "    </tr>\n",
       "    <tr>\n",
       "      <th>ALPHABET INC</th>\n",
       "      <td>160329</td>\n",
       "      <td>1652044</td>\n",
       "      <td>2019.0</td>\n",
       "      <td>518210.0</td>\n",
       "      <td>34343.0</td>\n",
       "      <td>275909.0</td>\n",
       "      <td>201442.0</td>\n",
       "      <td>0.124472</td>\n",
       "      <td>0.170486</td>\n",
       "    </tr>\n",
       "    <tr>\n",
       "      <th>COMCAST CORP</th>\n",
       "      <td>3226</td>\n",
       "      <td>1166691</td>\n",
       "      <td>2019.0</td>\n",
       "      <td>515210.0</td>\n",
       "      <td>13057.0</td>\n",
       "      <td>263414.0</td>\n",
       "      <td>82726.0</td>\n",
       "      <td>0.049568</td>\n",
       "      <td>0.157834</td>\n",
       "    </tr>\n",
       "  </tbody>\n",
       "</table>\n",
       "</div>"
      ],
      "text/plain": [
       "                             gvkey      cik   fyear    naicsh  \\\n",
       "conm                                                            \n",
       "AT&T INC                      9899   732717  2019.0  517312.0   \n",
       "VERIZON COMMUNICATIONS INC    2136   732712  2019.0  517312.0   \n",
       "MICROSOFT CORP               12141   789019  2019.0  511210.0   \n",
       "ALPHABET INC                160329  1652044  2019.0  518210.0   \n",
       "COMCAST CORP                  3226  1166691  2019.0  515210.0   \n",
       "\n",
       "                            Net Income(Loss)  Assets - Total  \\\n",
       "conm                                                           \n",
       "AT&T INC                             13903.0        551669.0   \n",
       "VERIZON COMMUNICATIONS INC           19265.0        291727.0   \n",
       "MICROSOFT CORP                       39240.0        286556.0   \n",
       "ALPHABET INC                         34343.0        275909.0   \n",
       "COMCAST CORP                         13057.0        263414.0   \n",
       "\n",
       "                            Stockholders' Equity - Total       ROA       ROE  \n",
       "conm                                                                          \n",
       "AT&T INC                                        184221.0  0.025202  0.075469  \n",
       "VERIZON COMMUNICATIONS INC                       61395.0  0.066038  0.313788  \n",
       "MICROSOFT CORP                                  102330.0  0.136937  0.383465  \n",
       "ALPHABET INC                                    201442.0  0.124472  0.170486  \n",
       "COMCAST CORP                                     82726.0  0.049568  0.157834  "
      ]
     },
     "execution_count": 18,
     "metadata": {},
     "output_type": "execute_result"
    }
   ],
   "source": [
    "# Inspect selected industry data\n",
    "# sort industry companies by size (Total Assets)\n",
    "df_industry.groupby('conm').mean().sort_values(by = 'Assets - Total', ascending = False).head()"
   ]
  },
  {
   "cell_type": "code",
   "execution_count": 20,
   "metadata": {},
   "outputs": [
    {
     "data": {
      "image/png": "[encoded data removed]",
      "text/plain": [
       "<Figure size 432x288 with 2 Axes>"
      ]
     },
     "metadata": {
      "needs_background": "light"
     },
     "output_type": "display_data"
    }
   ],
   "source": [
    "# Visualization of company sizes of selected industry\n",
    "plt.subplot(1,2,1)\n",
    "plt.boxplot(x = df_industry.groupby('conm').mean()['Assets - Total'])\n",
    "\n",
    "plt.subplot(1,2,2)\n",
    "plt.boxplot(x = df_industry.groupby('conm').mean()['Assets - Total'], showfliers = False)\n",
    "\n",
    "plt.title(\"Boxplot of Average Total Assets of {} industry (with/without outliers)\".format(industry_dct[select_code]))\n",
    "plt.show()"
   ]
  },
  {
   "cell_type": "markdown",
   "metadata": {},
   "source": [
    "## Text Mining from Edgar "
   ]
  },
  {
   "cell_type": "markdown",
   "metadata": {},
   "source": [
    "### Load Prerecorded data"
   ]
  },
  {
   "cell_type": "code",
   "execution_count": 4,
   "metadata": {},
   "outputs": [],
   "source": [
    "def toPickle(data,filepath):\n",
    "    \"\"\"\n",
    "    Store data to a cache file prevent from having to run text minnig every time.\n",
    "    \"\"\"\n",
    "    directory = 'tmp_file/'\n",
    "    pickle.dump(data, open(directory + filepath, \"wb\" ))"
   ]
  },
  {
   "cell_type": "code",
   "execution_count": 5,
   "metadata": {},
   "outputs": [],
   "source": [
    "def fromPickle(filepath):\n",
    "    \"\"\"\n",
    "    Read data to a cache file prevent from having to run text minnig every time.\n",
    "    \"\"\"\n",
    "    directory = 'tmp_file/'\n",
    "    company_docs = pickle.load(open(directory + filepath, \"rb\" ) )\n",
    "    return company_docs"
   ]
  },
  {
   "cell_type": "markdown",
   "metadata": {},
   "source": [
    "### Text Mining\n",
    "Text minnig of 600 copies of 10k takes 15min-30min on my computer. Average one company takes 1~2 seconds of wall time."
   ]
  },
  {
   "cell_type": "code",
   "execution_count": 98,
   "metadata": {},
   "outputs": [
    {
     "name": "stdout",
     "output_type": "stream",
     "text": [
      "Number of companies in Accommodation and Food Services (NAICS code starts with 72): 81\n",
      "Estimated time to complete text mining for this industry (one 10-K document for each company) is 2.02 minutes\n"
     ]
    }
   ],
   "source": [
    "# select companies in specific industry\n",
    "select_code = '72'\n",
    "df_industry = df[(df['naics_super'].str.startswith(select_code))]\n",
    "print(\"Number of companies in {} (NAICS code starts with {}): {}\"\n",
    "      .format(industry_dct[select_code],select_code,len(df_industry.cik.unique())))\n",
    "print(\"Estimated time to complete text mining for this industry (one 10-K document for each company) is {} minutes\"\n",
    "      .format(round((1.5*len(df_industry)/60),2)))"
   ]
  },
  {
   "cell_type": "code",
   "execution_count": 99,
   "metadata": {},
   "outputs": [
    {
     "data": {
      "text/plain": [
       "81"
      ]
     },
     "execution_count": 99,
     "metadata": {},
     "output_type": "execute_result"
    }
   ],
   "source": [
    "# Prepare a dictionary to store data result: company_docs {cik : [document]}\n",
    "\n",
    "# list of cik\n",
    "cik_lst = df_industry['cik'].to_list()\n",
    "cik_lst = [str(int(w)) for w in cik_lst]\n",
    "# list of company names\n",
    "conm_lst = df_industry['conm'].to_list()\n",
    "# company name and cik dictionary of selected industry industry_code {cik:name}\n",
    "industry_code = dict(zip(cik_lst,conm_lst))\n",
    "\n",
    "company_docs = {k : [] for k in cik_lst}\n",
    "len(company_docs)"
   ]
  },
  {
   "cell_type": "code",
   "execution_count": 101,
   "metadata": {},
   "outputs": [
    {
     "name": "stdout",
     "output_type": "stream",
     "text": [
      "CPU times: user 21.9 s, sys: 1.03 s, total: 22.9 s\n",
      "Wall time: 1min 28s\n"
     ]
    }
   ],
   "source": [
    "%%time\n",
    "# Text Mining\n",
    "from edgar import Company, XBRL, XBRLElement\n",
    "\n",
    "for cik, conm in industry_code.items():\n",
    "    company = Company(conm, cik)\n",
    "    results = company.get_document_type_from_10K(\"10-K\", no_of_documents = 1)\n",
    "\n",
    "    for d in results:\n",
    "        company_docs[cik].append(str(d.text_content()))"
   ]
  },
  {
   "cell_type": "code",
   "execution_count": 102,
   "metadata": {},
   "outputs": [],
   "source": [
    "# Store text mining result to pickle file\n",
    "filepath = 'industry_2019_10k_{}.p'.format(select_code)\n",
    "filepath\n",
    "toPickle(company_docs,filepath)"
   ]
  },
  {
   "cell_type": "markdown",
   "metadata": {},
   "source": [
    "## Load Data from Cache File \n",
    "This is to expediate the data mining process by loading chache result of company_docs by industries."
   ]
  },
  {
   "cell_type": "code",
   "execution_count": 23,
   "metadata": {},
   "outputs": [
    {
     "name": "stdout",
     "output_type": "stream",
     "text": [
      "my_model.p\n",
      "industry_2019_10k_42.p\n",
      "industry_2019_10k_23.p\n",
      "industry_2019_10k_48.p\n",
      "company_topic_dct_bus_52.p\n",
      "industry_2019_10k_52.p\n",
      "industry_2019_10k_56.p\n",
      "industry_2019_10k_51.p\n",
      "industry_2019_10k_11.p\n",
      "industry_2019_10k_44.p\n",
      "industry_2019_10k_61.p\n",
      "industry_2019_10k_21.p\n",
      "company_topic_dct_52.p\n",
      "industry_2019_10k_31.p\n",
      "industry_2019_10k_54.p\n",
      "industry_2019_10k_71.p\n",
      "industry_2019_10k_62.p\n",
      ".ipynb_checkpoints\n",
      "industry_2019_10k_22.p\n",
      "industry_2019_10k_32.p\n",
      "industry_2019_10k_53.p\n",
      "industry_2019_10k_72.p\n"
     ]
    }
   ],
   "source": [
    "# check existing chache file in the directory\n",
    "import os\n",
    "filenames = []\n",
    "for file in os.listdir('tmp_file'):\n",
    "    print(file)"
   ]
  },
  {
   "cell_type": "code",
   "execution_count": 28,
   "metadata": {},
   "outputs": [],
   "source": [
    "import os # read filename in directory\n",
    "\n",
    "# 10-K documents from all companies in each industry. all_industry: Dictionary {naics : {cik:[document]}}\n",
    "all_industry = {}\n",
    "for filepath in os.listdir('tmp_file'):\n",
    "    # find corresponding datafile\n",
    "    if filepath.startswith('industry_2019_10k_'):\n",
    "        naics = filepath[-4:-2]\n",
    "        all_industry[naics] = fromPickle(filepath)"
   ]
  },
  {
   "cell_type": "code",
   "execution_count": 29,
   "metadata": {},
   "outputs": [
    {
     "data": {
      "text/plain": [
       "18"
      ]
     },
     "execution_count": 29,
     "metadata": {},
     "output_type": "execute_result"
    }
   ],
   "source": [
    "# Check result\n",
    "len(all_industry) # number of industries"
   ]
  },
  {
   "cell_type": "code",
   "execution_count": 30,
   "metadata": {},
   "outputs": [
    {
     "data": {
      "text/plain": [
       "dict_keys(['42', '23', '48', '52', '56', '51', '11', '44', '61', '21', '31', '54', '71', '62', '22', '32', '53', '72'])"
      ]
     },
     "execution_count": 30,
     "metadata": {},
     "output_type": "execute_result"
    }
   ],
   "source": [
    "# Check result\n",
    "all_industry.keys() # industry codes"
   ]
  },
  {
   "cell_type": "code",
   "execution_count": 31,
   "metadata": {},
   "outputs": [
    {
     "data": {
      "text/plain": [
       "dict_keys(['2178', '821026', '7536', '8858', '109563', '721371', '18172', '21828', '31667', '352825', '40987', '277135', '205402', '46250', '1093082', '1481582', '52795', '703604', '927653', '65312', '71829', '75252', '76282', '90045', '96021', '99302', '102037', '105016', '106532', '790703', '789460', '1552797', '1552275', '815556', '1180262', '839087', '1538849', '1328581', '1573097', '1665918', '1581990', '1577916', '1474167', '1591588', '1599489', '1599617', '747540', '1494319', '1600438', '874292', '1107713', '885307', '887733', '891024', '1650729', '1604627', '1654795', '1651958', '1402057', '877422', '1618673', '911649', '912603', '1688941', '917470', '900075', '918965', '861884', '927355', '932696', '1140859', '942126', '1641398', '319016', '835662', '1680873', '1740332', '1737372', '1713210', '1626745', '1743745', '1725255', '912061', '945114', '945983', '928465', '945841', '1000228', '1003078', '1005516', '1020859', '1022408', '1022321', '1020710', '1026662', '1030997', '1714179', '1070423', '929008', '1082506', '1094972', '1054721', '823277', '1133470', '1529113', '1176334', '1065696', '1177394', '1124941', '1007019', '1301787', '1295947', '1318084', '1323468', '1339605', '1356949', '1383650', '1402902', '1439095', '1430523', '890447', '1471727', '784539', '1517175', '919175', '1525287', '1378718', '312257'])"
      ]
     },
     "execution_count": 31,
     "metadata": {},
     "output_type": "execute_result"
    }
   ],
   "source": [
    "all_industry['42'].keys() # companies codes in specific industry"
   ]
  },
  {
   "cell_type": "code",
   "execution_count": 40,
   "metadata": {},
   "outputs": [
    {
     "data": {
      "text/plain": [
       "'l-known seasoned issuer, as defined in Rule 405 of the Securities Act.   Yes o   No þIndicate by check mark if the registrant is not required to file reports pursuant to Section 13 or Section 15(d) of the Act.   Yes o   No þIndicate by check mark whether the registrant (1) has filed all reports required to be filed by Section 13 or 15(d) of the Securities Exchange Act of 1934 during the preceding 12 months (or for such shorter period that the registrant was required to file such reports), and (2) has been subject to such filing requirements for the past 90 days.   Yes þ   No oIndicate by check mark whether the registrant has submitted electronically every Interactive Data File required to be submitted pursuant to Rule 405 of Regulation S-T during the preceding 12 months (or for such shorter period that the registrant was required to submit such files).   Yes þ   No oIndicate by check mark whether the registrant is a large accelerated filer, an accelerated filer, a non-accelerated filer'"
      ]
     },
     "execution_count": 40,
     "metadata": {},
     "output_type": "execute_result"
    }
   ],
   "source": [
    "all_industry['42']['2178'][0][20000:21000] # check specific company, sliced text"
   ]
  },
  {
   "cell_type": "markdown",
   "metadata": {},
   "source": [
    "### Text Preprocessing "
   ]
  },
  {
   "cell_type": "code",
   "execution_count": 41,
   "metadata": {},
   "outputs": [],
   "source": [
    "# remove company with no 10-k file or contains amendment\n",
    "all_industry = {naics:{k:v for k,v in all_industry[naics].items() if len(v) == 1} for naics in all_industry.keys()}"
   ]
  },
  {
   "cell_type": "code",
   "execution_count": 44,
   "metadata": {},
   "outputs": [
    {
     "data": {
      "text/plain": [
       "730"
      ]
     },
     "execution_count": 44,
     "metadata": {},
     "output_type": "execute_result"
    }
   ],
   "source": [
    "len(all_industry['52']) # check result"
   ]
  },
  {
   "cell_type": "code",
   "execution_count": 45,
   "metadata": {},
   "outputs": [
    {
     "name": "stdout",
     "output_type": "stream",
     "text": [
      "CPU times: user 1min 38s, sys: 8.46 s, total: 1min 47s\n",
      "Wall time: 1min 47s\n"
     ]
    }
   ],
   "source": [
    "%%time\n",
    "\n",
    "# Text Preprocessing\n",
    "\n",
    "# all_industry_sample: dictionary {naics : {cik : [item1_business_10k]}}\n",
    "all_industry_sample = {}\n",
    "\n",
    "for naics in all_industry:\n",
    "    company_docs = all_industry[naics]\n",
    "    sample_lst = {k:[] for k in company_docs.keys()}\n",
    "    for k,v in company_docs.items():\n",
    "        text = v[0]\n",
    "        # normalize text\n",
    "        text = text.lower()\n",
    "        # remove title and bars\n",
    "        index = text.find('the fiscal year ended')\n",
    "        if index >= 0:\n",
    "            text = text[index:]\n",
    "        # remove unicode data\n",
    "        text = unicodedata.normalize(\"NFKD\", text)\n",
    "        # remove tab, linefeed\n",
    "        text = re.sub('\\\\n|\\\\t',' ', text)\n",
    "        # remove duplicate whitespaces\n",
    "        text = re.sub('\\s+',' ',text)\n",
    "        # Extract Part 1 item 1 - \"Business\" from the text\n",
    "        business_text = re.findall(\"item 1\\.(.*)item 1a\\.\", text)\n",
    "        if len(business_text) > 0:\n",
    "            business_text = business_text[0]\n",
    "\n",
    "        sample_lst[k].append(business_text)\n",
    "        \n",
    "    all_industry_sample[naics] = sample_lst"
   ]
  },
  {
   "cell_type": "code",
   "execution_count": 47,
   "metadata": {},
   "outputs": [],
   "source": [
    "# check result for those companies that are not included in the list after preprocessing\n",
    "all_industry_sample_dct = {}\n",
    "for naics, sample_lst in all_industry_sample.items():\n",
    "    code_lst = []\n",
    "    for k,doc in sample_lst.items():\n",
    "        if type(doc[0]) != str:\n",
    "            code_lst.append(k)\n",
    "\n",
    "    # Remove companies whose text conetents are empty\n",
    "    sample_dct = dict([(key, val) for key, val in \n",
    "               sample_lst.items() if key not in code_lst]) \n",
    "    \n",
    "    all_industry_sample_dct[naics] = sample_dct"
   ]
  },
  {
   "cell_type": "code",
   "execution_count": 49,
   "metadata": {},
   "outputs": [],
   "source": [
    "# store to a chache file\n",
    "# toPickle(all_industry_sample_dct,'all_industry_sample_dct.p')"
   ]
  },
  {
   "cell_type": "code",
   "execution_count": 7,
   "metadata": {},
   "outputs": [],
   "source": [
    "all_industry_sample_dct = fromPickle('all_industry_sample_dct.p')"
   ]
  },
  {
   "cell_type": "markdown",
   "metadata": {},
   "source": [
    "## Text Analysis "
   ]
  },
  {
   "cell_type": "markdown",
   "metadata": {},
   "source": [
    "### Prepare data"
   ]
  },
  {
   "cell_type": "code",
   "execution_count": 188,
   "metadata": {},
   "outputs": [
    {
     "data": {
      "text/plain": [
       "668"
      ]
     },
     "execution_count": 188,
     "metadata": {},
     "output_type": "execute_result"
    }
   ],
   "source": [
    "len(sample_dct)"
   ]
  },
  {
   "cell_type": "code",
   "execution_count": 14,
   "metadata": {},
   "outputs": [
    {
     "data": {
      "text/plain": [
       "['71', '51', '62']"
      ]
     },
     "execution_count": 14,
     "metadata": {},
     "output_type": "execute_result"
    }
   ],
   "source": [
    "# import random  \n",
    "from random import sample \n",
    "\n",
    "# Select a random sampling of industries from the industry pool\n",
    "my_industry_codes = sample(list(all_industry_sample_dct.keys()),3)\n",
    "my_industry_codes"
   ]
  },
  {
   "cell_type": "code",
   "execution_count": 15,
   "metadata": {},
   "outputs": [],
   "source": [
    "my_doc = []\n",
    "for naics in my_industry_codes:\n",
    "    for cik, document in all_industry_sample_dct[naics].items():\n",
    "        my_doc.append(document)"
   ]
  },
  {
   "cell_type": "code",
   "execution_count": 16,
   "metadata": {},
   "outputs": [],
   "source": [
    "# Code my sample to must include Finance and Insurance industry (naics = 52)\n",
    "my_doc = my_doc + list(all_industry_sample_dct['52'].values())\n"
   ]
  },
  {
   "cell_type": "code",
   "execution_count": 18,
   "metadata": {},
   "outputs": [
    {
     "data": {
      "text/plain": [
       "1093"
      ]
     },
     "execution_count": 18,
     "metadata": {},
     "output_type": "execute_result"
    }
   ],
   "source": [
    "# Check the result in this random sample\n",
    "len(my_doc)"
   ]
  },
  {
   "cell_type": "markdown",
   "metadata": {},
   "source": [
    "###  Train a custom word2vec model"
   ]
  },
  {
   "cell_type": "code",
   "execution_count": 19,
   "metadata": {},
   "outputs": [],
   "source": [
    "# Prepare a Gensim corpus for our word2vec model\n",
    "from gensim import utils\n",
    "\n",
    "class MyCorpus(object):\n",
    "    \"\"\"An interator that yields sentences (lists of str).\"\"\"\n",
    "\n",
    "    def __iter__(self):\n",
    "        for doc in my_doc:\n",
    "            # assume there's one document per line, tokens separated by whitespace\n",
    "            yield utils.simple_preprocess(doc[0])\n",
    "            "
   ]
  },
  {
   "cell_type": "code",
   "execution_count": 20,
   "metadata": {},
   "outputs": [
    {
     "name": "stdout",
     "output_type": "stream",
     "text": [
      "CPU times: user 7 µs, sys: 0 ns, total: 7 µs\n",
      "Wall time: 10 µs\n"
     ]
    }
   ],
   "source": [
    "%%time\n",
    "import gensim.models\n",
    "\n",
    "# instantiate a gensim text corpus\n",
    "sentences = MyCorpus()\n",
    "\n",
    "# Construct a word2vec model using selected corpus; or we can load a pre-trained model using the code in the cell below\n",
    "model = gensim.models.Word2Vec(sentences=sentences)\n",
    "# toPickle(model,'my_model_1.p')"
   ]
  },
  {
   "cell_type": "code",
   "execution_count": 21,
   "metadata": {},
   "outputs": [],
   "source": [
    "# Load pre-trained model\n",
    "model = fromPickle('my_model_1.p')"
   ]
  },
  {
   "cell_type": "code",
   "execution_count": 23,
   "metadata": {},
   "outputs": [
    {
     "data": {
      "text/plain": [
       "(<gensim.models.word2vec.Word2Vec at 0x1a3eb5d080>,\n",
       " <__main__.MyCorpus at 0x1a16fa4dd8>)"
      ]
     },
     "execution_count": 23,
     "metadata": {},
     "output_type": "execute_result"
    }
   ],
   "source": [
    "model,sentences"
   ]
  },
  {
   "cell_type": "markdown",
   "metadata": {},
   "source": [
    "### Prepare functions for vector transformation and cosine similarity calculation"
   ]
  },
  {
   "cell_type": "code",
   "execution_count": 24,
   "metadata": {},
   "outputs": [],
   "source": [
    "def sentence2vec(sentence):\n",
    "    \"\"\"\n",
    "    args: \n",
    "        sentence (str): text \n",
    "    \n",
    "    returns:\n",
    "        vec_sum/len(preprocess_sen) (float)\n",
    "    \n",
    "    Transform each sentence into vector using the word2vec model. Take the average of all of the word's embedding\n",
    "    of the sentence.\n",
    "    \"\"\"\n",
    "    # proprocess the text using gensim's framework for its model transformer\n",
    "    preprocess_sen = utils.simple_preprocess(sentence)\n",
    "    preprocess_sen =[word for word in preprocess_sen if word in model.wv.vocab]\n",
    "    # handle edge case\n",
    "    if len(preprocess_sen) == 0:\n",
    "        return np.zeros(model[list(model.wv.vocab.keys())[0]].shape)\n",
    "    \n",
    "    vec_sum = sum([model[word] for word in preprocess_sen])\n",
    "    return vec_sum/len(preprocess_sen)\n"
   ]
  },
  {
   "cell_type": "code",
   "execution_count": 25,
   "metadata": {},
   "outputs": [],
   "source": [
    "def sen2sen(s1, s2):\n",
    "    \"\"\"\n",
    "    args:\n",
    "        s1 (str): text\n",
    "        s2 (str): text\n",
    "    \n",
    "    returns:\n",
    "        float: cosine similarity score between s1 and s2\n",
    "    \n",
    "    Calcuate the cosine similarity score between two vectors.\n",
    "    \"\"\"\n",
    "    vec1 = sentence2vec(s1)\n",
    "    vec2 = sentence2vec(s2)\n",
    "    \n",
    "    # handle edge case\n",
    "    if np.all((vec1 == 0)) or np.all((vec2 == 0)):\n",
    "        return 0\n",
    "    \n",
    "    return np.inner(vec1, vec2) / (norm(vec1) * norm(vec2))"
   ]
  },
  {
   "cell_type": "code",
   "execution_count": 26,
   "metadata": {},
   "outputs": [
    {
     "data": {
      "text/plain": [
       "(100,)"
      ]
     },
     "execution_count": 26,
     "metadata": {},
     "output_type": "execute_result"
    }
   ],
   "source": [
    "model['business'].shape"
   ]
  },
  {
   "cell_type": "code",
   "execution_count": 29,
   "metadata": {},
   "outputs": [],
   "source": [
    "# sentence2vec(sentences).shape"
   ]
  },
  {
   "cell_type": "code",
   "execution_count": 30,
   "metadata": {},
   "outputs": [
    {
     "data": {
      "text/plain": [
       "0.5481992"
      ]
     },
     "execution_count": 30,
     "metadata": {},
     "output_type": "execute_result"
    }
   ],
   "source": [
    "# Test the cosine similarity result of two text\n",
    "sen2sen('competition',\n",
    "                 'we face intense competition for cobrand relationships, as both card issuer and network competitors have targeted key business partners with attractive value propositions')"
   ]
  },
  {
   "cell_type": "code",
   "execution_count": 31,
   "metadata": {},
   "outputs": [],
   "source": [
    "def getTopicSentence(query, document,n = 5):\n",
    "    \n",
    "    # remove these words to prevent from wrong sentence split using '.'\n",
    "    words_remove = ['e.g.',\n",
    "                   '.com']\n",
    "    for word in words_remove:\n",
    "        document = document.replace(word,'')\n",
    "        \n",
    "    sentences = document.split('.')\n",
    "    \n",
    "    # for each company's document\n",
    "    score_lst = []\n",
    "    for i,sentence in enumerate(sentences):\n",
    "        score_lst.append((sen2sen(query,sentence),sentence))\n",
    "\n",
    "    score_lst.sort(reverse = True)\n",
    "    return score_lst[:n]"
   ]
  },
  {
   "cell_type": "markdown",
   "metadata": {},
   "source": [
    "### Generate search_query for topics "
   ]
  },
  {
   "cell_type": "code",
   "execution_count": 32,
   "metadata": {},
   "outputs": [
    {
     "data": {
      "text/plain": [
       "([('intense', 0.5819029808044434),\n",
       "  ('competitive', 0.5694119334220886),\n",
       "  ('pressures', 0.5503791570663452),\n",
       "  ('demand', 0.5456744432449341),\n",
       "  ('competing', 0.5342322587966919),\n",
       "  ('comes', 0.5245393514633179),\n",
       "  ('attracting', 0.4990593492984772),\n",
       "  ('compete', 0.47157520055770874),\n",
       "  ('consolidation', 0.4623866379261017),\n",
       "  ('competitors', 0.4545760154724121)],\n",
       " '=======',\n",
       " [('businesses', 0.6047791838645935),\n",
       "  ('operations', 0.494844913482666),\n",
       "  ('success', 0.41586732864379883),\n",
       "  ('profitability', 0.41349658370018005),\n",
       "  ('avr', 0.3822997510433197),\n",
       "  ('businesswe', 0.37609681487083435),\n",
       "  ('segment', 0.37004542350769043),\n",
       "  ('businessour', 0.36621546745300293),\n",
       "  ('industry', 0.3592926263809204),\n",
       "  ('element', 0.35630613565444946)])"
      ]
     },
     "execution_count": 32,
     "metadata": {},
     "output_type": "execute_result"
    }
   ],
   "source": [
    "# most similar words to topics of competition and business\n",
    "model.most_similar('competition'),'=======',model.most_similar('business')"
   ]
  },
  {
   "cell_type": "code",
   "execution_count": 35,
   "metadata": {},
   "outputs": [],
   "source": [
    "# Define serach_query for each topic \n",
    "competition_query = 'compete competitor competitive competition market industry'\n",
    "business_query = 'business product businesses'"
   ]
  },
  {
   "cell_type": "code",
   "execution_count": 38,
   "metadata": {},
   "outputs": [],
   "source": [
    "# Test exmple 2: Mastercard\n",
    "cik = '1141391'\n",
    "text1 = all_industry_sample_dct['52'][cik][0]"
   ]
  },
  {
   "cell_type": "code",
   "execution_count": 37,
   "metadata": {},
   "outputs": [],
   "source": [
    "# Test exmple 1: American Express\n",
    "cik = '4962'\n",
    "text = all_industry_sample_dct['52'][cik][0]"
   ]
  },
  {
   "cell_type": "code",
   "execution_count": 39,
   "metadata": {},
   "outputs": [],
   "source": [
    "# generate topic_sentence_set for each of the two companies\n",
    "topic_lst1 = getTopicSentence(competition_query, text)\n",
    "topic_lst2 = getTopicSentence(competition_query, text1)"
   ]
  },
  {
   "cell_type": "code",
   "execution_count": 41,
   "metadata": {},
   "outputs": [
    {
     "name": "stdout",
     "output_type": "stream",
     "text": [
      "14.904521107673645\n",
      "CPU times: user 10.2 ms, sys: 448 µs, total: 10.6 ms\n",
      "Wall time: 11.6 ms\n"
     ]
    }
   ],
   "source": [
    "%%time\n",
    "# Test result for Amex and Mastercard\n",
    "# sum of similarity scores between top n sentences from Amex and Mastercard\n",
    "running_total = 0\n",
    "for i in range(len(topic_lst1)):\n",
    "    for j in range(len(topic_lst2)):\n",
    "        running_total+=sen2sen(topic_lst1[i][1],topic_lst2[j][1])\n",
    "\n",
    "print(running_total)"
   ]
  },
  {
   "cell_type": "markdown",
   "metadata": {},
   "source": [
    "### Get topic_sentence_set for selected companies"
   ]
  },
  {
   "cell_type": "code",
   "execution_count": 85,
   "metadata": {},
   "outputs": [
    {
     "name": "stdout",
     "output_type": "stream",
     "text": [
      "CPU times: user 2min 9s, sys: 985 ms, total: 2min 10s\n",
      "Wall time: 2min 11s\n"
     ]
    }
   ],
   "source": [
    "%%time\n",
    "# Generate topic_sentence_set for companies in the random sampled industry set, topic = \"competition\"\n",
    "\n",
    "# dictionary {naics : {cik: [(similarity_score, sentence)]}}\n",
    "company_topic_dct_competition = {}\n",
    "company_dct_52 = {}\n",
    "company_dct_51 = {}\n",
    "\n",
    "for cik in all_industry_sample_dct['52']:\n",
    "    company_dct_52[cik] = getTopicSentence(competition_query, \n",
    "                                                all_industry_sample_dct['52'][cik][0])\n",
    "company_topic_dct_competition['52'] = company_dct_52\n",
    "\n",
    "\n",
    "for cik in all_industry_sample_dct['51']:\n",
    "    company_dct_51[cik] = getTopicSentence(competition_query, \n",
    "                                                all_industry_sample_dct['51'][cik][0])\n",
    "\n",
    "company_topic_dct_competition['51'] = company_dct_51"
   ]
  },
  {
   "cell_type": "code",
   "execution_count": 96,
   "metadata": {},
   "outputs": [],
   "source": [
    "# continue\n",
    "company_dct_71 = {}\n",
    "company_dct_62 = {}\n",
    "\n",
    "for cik in all_industry_sample_dct['71']:\n",
    "    company_dct_71[cik] = getTopicSentence(competition_query, \n",
    "                                                all_industry_sample_dct['71'][cik][0])\n",
    "company_topic_dct_competition['71'] = company_dct_71\n",
    "\n",
    "\n",
    "for cik in all_industry_sample_dct['62']:\n",
    "    company_dct_62[cik] = getTopicSentence(competition_query, \n",
    "                                                all_industry_sample_dct['62'][cik][0])\n",
    "\n",
    "company_topic_dct_competition['62'] = company_dct_62"
   ]
  },
  {
   "cell_type": "code",
   "execution_count": 84,
   "metadata": {},
   "outputs": [
    {
     "name": "stdout",
     "output_type": "stream",
     "text": [
      "CPU times: user 1min 56s, sys: 827 ms, total: 1min 57s\n",
      "Wall time: 1min 57s\n"
     ]
    }
   ],
   "source": [
    "%%time\n",
    "\n",
    "# Generate topic_sentence_set for companies in the random sampled industry set, topic = \"business\"\n",
    "\n",
    "# dictionary {naics : {cik: [(similarity_score, sentence)]}}\n",
    "company_topic_dct_business = {}\n",
    "company_dct_52 = {}\n",
    "company_dct_51 = {}\n",
    "\n",
    "for cik in all_industry_sample_dct['52']:\n",
    "    company_dct_52[cik] = getTopicSentence(business_query, \n",
    "                                                all_industry_sample_dct['52'][cik][0])\n",
    "company_topic_dct_business['52'] = company_dct_52\n",
    "\n",
    "\n",
    "for cik in all_industry_sample_dct['51']:\n",
    "    company_dct_51[cik] = getTopicSentence(business_query, \n",
    "                                                all_industry_sample_dct['51'][cik][0])\n",
    "\n",
    "company_topic_dct_business['51'] = company_dct_51"
   ]
  },
  {
   "cell_type": "code",
   "execution_count": 97,
   "metadata": {},
   "outputs": [],
   "source": [
    "# continue\n",
    "company_dct_71 = {}\n",
    "company_dct_62 = {}\n",
    "\n",
    "for cik in all_industry_sample_dct['71']:\n",
    "    company_dct_71[cik] = getTopicSentence(business_query, \n",
    "                                                all_industry_sample_dct['71'][cik][0])\n",
    "company_topic_dct_business['71'] = company_dct_71\n",
    "\n",
    "\n",
    "for cik in all_industry_sample_dct['62']:\n",
    "    company_dct_62[cik] = getTopicSentence(business_query, \n",
    "                                                all_industry_sample_dct['62'][cik][0])\n",
    "\n",
    "company_topic_dct_business['62'] = company_dct_62\n"
   ]
  },
  {
   "cell_type": "code",
   "execution_count": 87,
   "metadata": {},
   "outputs": [
    {
     "data": {
      "text/plain": [
       "(354, 668)"
      ]
     },
     "execution_count": 87,
     "metadata": {},
     "output_type": "execute_result"
    }
   ],
   "source": [
    "len(company_topic_dct_business['51']),len(company_topic_dct_business['52'])"
   ]
  },
  {
   "cell_type": "code",
   "execution_count": 89,
   "metadata": {},
   "outputs": [
    {
     "data": {
      "text/plain": [
       "[(0.6113733,\n",
       "  ' we face intense competition for cobrand relationships, as both card issuer and network competitors have targeted key business partners with attractive value propositions'),\n",
       " (0.49980873,\n",
       "  ' as the payments industry continues to evolve, we face increasing competition from non-traditional players that leverage new technologies, business models and customer relationships to create payment or financing solutions'),\n",
       " (0.45240274,\n",
       "  'our business strategieswe seek to grow our business by focusing on four strategic imperatives:first, we aim to expand our leadership in the premium consumer space by continuing to deliver membership benefits that span our customers’ everyday spending, borrowing, travel and lifestyle needs, expanding our roster of business partners around the globe and developing a range of experiences that attract high-spending customers'),\n",
       " (0.4354915,\n",
       "  'we principally engage in businesses comprising three reportable operating segments: global consumer services group (gcsg), global commercial services (gcs) and global merchant and network services (gmns)'),\n",
       " (0.43505377,\n",
       "  ' new payments competitors continue to emerge in response to evolving technologies, consumer habits and merchant needs')]"
      ]
     },
     "execution_count": 89,
     "metadata": {},
     "output_type": "execute_result"
    }
   ],
   "source": [
    "# check results\n",
    "company_topic_dct_competition['52']['4962'] # AMEX, competition"
   ]
  },
  {
   "cell_type": "code",
   "execution_count": 92,
   "metadata": {},
   "outputs": [
    {
     "data": {
      "text/plain": [
       "[(0.5798798,\n",
       "  ' businessoverviewamerican express is a globally integrated payments company that provides customers with access to products, insights and experiences that enrich lives and build business success'),\n",
       " (0.5764958,\n",
       "  'our business strategieswe seek to grow our business by focusing on four strategic imperatives:first, we aim to expand our leadership in the premium consumer space by continuing to deliver membership benefits that span our customers’ everyday spending, borrowing, travel and lifestyle needs, expanding our roster of business partners around the globe and developing a range of experiences that attract high-spending customers'),\n",
       " (0.5247475,\n",
       "  ' we face intense competition for cobrand relationships, as both card issuer and network competitors have targeted key business partners with attractive value propositions'),\n",
       " (0.5170525,\n",
       "  ' our businesses are global in scope and function together to form our end-to-end integrated payments platform, which we believe is a differentiator that underpins our business model'),\n",
       " (0.5165528,\n",
       "  'we principally engage in businesses comprising three reportable operating segments: global consumer services group (gcsg), global commercial services (gcs) and global merchant and network services (gmns)')]"
      ]
     },
     "execution_count": 92,
     "metadata": {},
     "output_type": "execute_result"
    }
   ],
   "source": [
    "company_topic_dct_business['52']['4962'] # AMEX, business"
   ]
  },
  {
   "cell_type": "code",
   "execution_count": 91,
   "metadata": {},
   "outputs": [
    {
     "data": {
      "text/plain": [
       "[(0.54399335,\n",
       "  'seasonalityour business is affected by seasonal fluctuations in internet usage, advertising expenditures, and underlying business trends such as traditional retail seasonality'),\n",
       " (0.48439643,\n",
       "  ' we face competition from:•other digital content and application platform providers, such as amazon and apple'),\n",
       " (0.48364753,\n",
       "  ' competition for qualified personnel in our industry is intense, particularly for software engineers, computer scientists, and other technical staff'),\n",
       " (0.4749498,\n",
       "  ' we face formidable competition in every aspect of our business, particularly from companies that seek to connect people with online information and provide them with relevant advertising'),\n",
       " (0.45191705,\n",
       "  '•companies that design, manufacture, and market consumer hardware products, including businesses that have developed proprietary platforms')]"
      ]
     },
     "execution_count": 91,
     "metadata": {},
     "output_type": "execute_result"
    }
   ],
   "source": [
    "company_topic_dct_competition['51']['1652044']  # Google, competition"
   ]
  },
  {
   "cell_type": "code",
   "execution_count": 90,
   "metadata": {},
   "outputs": [
    {
     "data": {
      "text/plain": [
       "[(0.5689685,\n",
       "  '•companies that design, manufacture, and market consumer hardware products, including businesses that have developed proprietary platforms'),\n",
       " (0.5381474,\n",
       "  ' our advertising solutions help millions of companies grow their businesses, and we offer a wide range of products across devices and formats'),\n",
       " (0.5353711,\n",
       "  '•digital assistant providers, such as amazon and applepeting successfully depends heavily on our ability to deliver and distribute innovative products and technologies to the marketplace across our businesses'),\n",
       " (0.51907396,\n",
       "  ' we are also investing in research efforts in ai and quantum computing to foster innovation across our businesses and create new opportunities'),\n",
       " (0.5182447,\n",
       "  'in businesses that are further afield from our advertising business, we compete with companies that have longer operating histories and more established relationships with customers and users')]"
      ]
     },
     "execution_count": 90,
     "metadata": {},
     "output_type": "execute_result"
    }
   ],
   "source": [
    "company_topic_dct_business['51']['1652044']  # Google, business"
   ]
  },
  {
   "cell_type": "code",
   "execution_count": 95,
   "metadata": {},
   "outputs": [
    {
     "data": {
      "text/plain": [
       "(['71', '51', '62', '52'],\n",
       " 'Arts, Entertainment, and Recreation',\n",
       " 'Health Care and Social Assistance',\n",
       " 'Information',\n",
       " 'Finance and Insurance')"
      ]
     },
     "execution_count": 95,
     "metadata": {},
     "output_type": "execute_result"
    }
   ],
   "source": [
    "my_industry_codes, industry_dct['71'], industry_dct['62'],industry_dct['51'], industry_dct['52']"
   ]
  },
  {
   "cell_type": "code",
   "execution_count": 99,
   "metadata": {},
   "outputs": [
    {
     "data": {
      "text/plain": [
       "(dict_keys(['13573', '20212', '701374', '811532', '1532158', '1636519', '1637207', '1747079', '891482', '921738', '1672909', '1698991', '1013706', '1017673', '812011', '1071255', '1005276', '1297937', '1564902']),\n",
       " dict_keys(['744825', '19584', '355019', '1047335', '70318', '352915', '785557', '797564', '785161', '790526', '722723', '860730', '1501134', '1351051', '1108109', '862692', '1604821', '1477449', '704415', '1638833', '1498068', '1650445', '885074', '49071', '1674930', '919956', '896262', '1138978', '1083446', '1737422', '1729944', '1014739', '1766400', '1551306', '1404123', '927066', '944809', '1022079', '1437578', '1138476', '1066764', '1089815', '1077183', '1159281', '1461119', '1303313', '1349929', '1516887', '1125376', '1574774', '1520697', '1443863']))"
      ]
     },
     "execution_count": 99,
     "metadata": {},
     "output_type": "execute_result"
    }
   ],
   "source": [
    "company_topic_dct_competition['71'].keys(), company_topic_dct_competition['62'].keys()"
   ]
  },
  {
   "cell_type": "code",
   "execution_count": 100,
   "metadata": {},
   "outputs": [
    {
     "data": {
      "text/plain": [
       "('BOWL AMERICA INC  -CL A',\n",
       " [(0.4436179,\n",
       "   ' its primary competitor is bowlero corporation and many of our centers face competition from bowling centers located in close proximity to our centers'),\n",
       "  (0.4052024,\n",
       "   ' business (a) general development of business 1 (b) financial information about industry segments 1 (c) narrative description of business 1 (d) financial information about geographic areas 1 item 1a'),\n",
       "  (0.37620446,\n",
       "   ' (b) financial information about industry segments the company operates in one segment'),\n",
       "  (0.36582562,\n",
       "   ' it is highly competitive, but the company has managed to maintain its position in the markets in which it operates'),\n",
       "  (0.27380827, ' in addition, each center sells retail bowling accessories')])"
      ]
     },
     "execution_count": 100,
     "metadata": {},
     "output_type": "execute_result"
    }
   ],
   "source": [
    "company_codes['13573'], company_topic_dct_competition['71']['13573']"
   ]
  },
  {
   "cell_type": "code",
   "execution_count": 101,
   "metadata": {},
   "outputs": [
    {
     "data": {
      "text/plain": [
       "('CHEMED CORP',\n",
       " [(0.7086408,\n",
       "   ' competition is fragmented in most markets with local and regional firms providing the primary competition'),\n",
       "  (0.52843004,\n",
       "   ' because the hospice care industry is highly fragmented, vitas competes with a large number of organizations'),\n",
       "  (0.5249772,\n",
       "   ' competition roto-rooter all aspects of the sewer, drain and pipe cleaning, plumbing repair, excavation and water restoration businesses are highly competitive'),\n",
       "  (0.46476206,\n",
       "   ' in addition, various health care companies have diversified into the hospice market'),\n",
       "  (0.42463273,\n",
       "   ' 1 seasonality roto-rooter’s revenue and operating results are impacted by significant weather patterns across the united states')])"
      ]
     },
     "execution_count": 101,
     "metadata": {},
     "output_type": "execute_result"
    }
   ],
   "source": [
    "company_codes['19584'], company_topic_dct_competition['62']['19584']"
   ]
  },
  {
   "cell_type": "code",
   "execution_count": 102,
   "metadata": {},
   "outputs": [],
   "source": [
    "# store topic_sentence_set to cache file\n",
    "toPickle(company_topic_dct_competition, 'company_topic_dct_competition_51_52_62_71.p')\n",
    "toPickle(company_topic_dct_business, 'company_topic_dct_business_51_52_62_71.p')"
   ]
  },
  {
   "cell_type": "code",
   "execution_count": 55,
   "metadata": {},
   "outputs": [],
   "source": [
    "my_industry_codes = my_industry_codes + ['52']"
   ]
  },
  {
   "cell_type": "code",
   "execution_count": 56,
   "metadata": {},
   "outputs": [
    {
     "data": {
      "text/plain": [
       "['71', '51', '62', '52']"
      ]
     },
     "execution_count": 56,
     "metadata": {},
     "output_type": "execute_result"
    }
   ],
   "source": [
    "my_industry_codes"
   ]
  },
  {
   "cell_type": "markdown",
   "metadata": {},
   "source": [
    "### Pairwise similarity comparison\n",
    "Pairwise cosine similarity comparison between companies' topic_sentence_set."
   ]
  },
  {
   "cell_type": "code",
   "execution_count": 105,
   "metadata": {},
   "outputs": [],
   "source": [
    "def myCompanySimilarity(my_cik, my_naics, competition = True):\n",
    "    \"\"\"\n",
    "    args:\n",
    "        my_cik (str): this company's cik code\n",
    "        my_naics (str): this company's naics code\n",
    "        competition (bool): default = True. The flag to determine whether \n",
    "                            the topic comparison is competition v. business, or competitoin v. competition\n",
    "                            \n",
    "    returns:\n",
    "        my_similarity_dct_industry (Dictionary {cik : similarity_score}): \n",
    "                    a sorted (from highest similarity score to lowest) dictionary of companies to this company, \n",
    "                    from the most similar to the least similar, based on each topic_sentence_set of the pair.\n",
    "    \"\"\"\n",
    "    my_topic_lst = company_topic_dct_competition[my_naics][my_cik]\n",
    "    \n",
    "    \n",
    "    my_similarity_dct_industry = {}\n",
    "    for naics in company_topic_dct_competition:\n",
    "        # sum similarity scores for my company v. all companies in this industry. Dictionary {cik : similarity_score}\n",
    "        my_similarity_dct = {}\n",
    "        for cik in company_topic_dct_competition[naics]:\n",
    "\n",
    "            \n",
    "            if competition == True:\n",
    "                next_topic_lst = company_topic_dct_competition[naics][cik]\n",
    "            elif competition == False:\n",
    "                next_topic_lst = company_topic_dct_business[naics][cik]\n",
    "            running_total = 0\n",
    "        \n",
    "            # pairwise similarity\n",
    "            for i in range(len(my_topic_lst)):\n",
    "                for j in range(len(next_topic_lst)):\n",
    "                    # sum of pairwise similarity of two companies' extracted sentences\n",
    "                    running_total+=sen2sen(my_topic_lst[i][1],next_topic_lst[j][1])\n",
    "                \n",
    "            # append to my dictionary\n",
    "            my_similarity_dct[cik] = running_total\n",
    "        # sort dictionmy_similarity_dct by similarity score, descending\n",
    "        sort_dct = {k: v for k, v in sorted(my_similarity_dct.items(), key=lambda item: item[1], reverse = True)}\n",
    "        \n",
    "        my_similarity_dct_industry[naics] = sort_dct\n",
    "        \n",
    "    return my_similarity_dct_industry\n"
   ]
  },
  {
   "cell_type": "code",
   "execution_count": 133,
   "metadata": {},
   "outputs": [],
   "source": [
    "# Test individual company\n",
    "\n",
    "# Analysis: average similarity score in each industry, compare to AMEX (industry code: 51)\n",
    "def Average(lst): \n",
    "    return round((sum(lst) / len(lst)),2)\n",
    "\n",
    "# A function to print our test results\n",
    "def test(my_cik, my_industry_code):\n",
    "    \n",
    "    # Example: my company's 'competition' v. all companies 'business/product' in its code '52' industry\n",
    "    my_dct_business = myCompanySimilarity(my_cik,my_industry_code, competition = False)\n",
    "    \n",
    "    # Example: Amex 'competition' v. all companies 'competition' in its code '52' industry\n",
    "    my_dct_competition = myCompanySimilarity(my_cik,my_industry_code, competition = True)\n",
    "    \n",
    "    print(\"My company: {}\".format(company_codes[my_cik]))\n",
    "    print()\n",
    "    print(\"Competition Topic of my company v. Competition Topic of other companies (Symmetric Relationship)\")\n",
    "    for naics, dct in my_dct_competition.items():\n",
    "        print(\"industry code: {}, category: {}\".format(naics,industry_dct[naics]))\n",
    "        if naics == my_industry_code:\n",
    "            print(\"*** This is the industry category I belong\")\n",
    "        avg_score = Average(list(dct.values()))\n",
    "        print(\"average similarity score of each company in industry: {} v. my company is \\n {}\"\n",
    "              .format(industry_dct[naics], avg_score))\n",
    "    print()\n",
    "    print(\"Competition Topic of my company v. Business Topic of other companies (Asymmetric Relationship)\")\n",
    "    \n",
    "    for naics, dct in my_dct_business.items():\n",
    "        print(\"industry code: {}, category: {}\".format(naics,industry_dct[naics]))\n",
    "        if naics == my_industry_code:\n",
    "            print(\"*** This is the industry category I belong\")\n",
    "        avg_score = Average(list(dct.values()))\n",
    "        print(\"average similarity score of each company in industry: {} v. my company is \\n {}\"\n",
    "              .format(industry_dct[naics], avg_score))"
   ]
  },
  {
   "cell_type": "code",
   "execution_count": 134,
   "metadata": {},
   "outputs": [
    {
     "name": "stdout",
     "output_type": "stream",
     "text": [
      "My company: AMERICAN EXPRESS CO\n",
      "\n",
      "Competition Topic of my company v. Competition Topic of other companies (Symmetric Relationship)\n",
      "industry code: 52, category: Finance and Insurance\n",
      "*** This is the industry category I belong\n",
      "average similarity score of each company in industry: Finance and Insurance v. my company is \n",
      " 12.77\n",
      "industry code: 51, category: Information\n",
      "average similarity score of each company in industry: Information v. my company is \n",
      " 14.29\n",
      "industry code: 71, category: Arts, Entertainment, and Recreation\n",
      "average similarity score of each company in industry: Arts, Entertainment, and Recreation v. my company is \n",
      " 12.79\n",
      "industry code: 62, category: Health Care and Social Assistance\n",
      "average similarity score of each company in industry: Health Care and Social Assistance v. my company is \n",
      " 13.08\n",
      "\n",
      "Competition Topic of my company v. Business Topic of other companies (Asymmetric Relationship)\n",
      "industry code: 52, category: Finance and Insurance\n",
      "*** This is the industry category I belong\n",
      "average similarity score of each company in industry: Finance and Insurance v. my company is \n",
      " 12.88\n",
      "industry code: 51, category: Information\n",
      "average similarity score of each company in industry: Information v. my company is \n",
      " 14.49\n",
      "industry code: 71, category: Arts, Entertainment, and Recreation\n",
      "average similarity score of each company in industry: Arts, Entertainment, and Recreation v. my company is \n",
      " 12.76\n",
      "industry code: 62, category: Health Care and Social Assistance\n",
      "average similarity score of each company in industry: Health Care and Social Assistance v. my company is \n",
      " 13.13\n"
     ]
    }
   ],
   "source": [
    "test('4962','52') # AMEX"
   ]
  },
  {
   "cell_type": "code",
   "execution_count": 135,
   "metadata": {},
   "outputs": [
    {
     "name": "stdout",
     "output_type": "stream",
     "text": [
      "My company: ALPHABET INC\n",
      "\n",
      "Competition Topic of my company v. Competition Topic of other companies (Symmetric Relationship)\n",
      "industry code: 52, category: Finance and Insurance\n",
      "average similarity score of each company in industry: Finance and Insurance v. my company is \n",
      " 11.81\n",
      "industry code: 51, category: Information\n",
      "*** This is the industry category I belong\n",
      "average similarity score of each company in industry: Information v. my company is \n",
      " 13.45\n",
      "industry code: 71, category: Arts, Entertainment, and Recreation\n",
      "average similarity score of each company in industry: Arts, Entertainment, and Recreation v. my company is \n",
      " 12.49\n",
      "industry code: 62, category: Health Care and Social Assistance\n",
      "average similarity score of each company in industry: Health Care and Social Assistance v. my company is \n",
      " 12.32\n",
      "\n",
      "Competition Topic of my company v. Business Topic of other companies (Asymmetric Relationship)\n",
      "industry code: 52, category: Finance and Insurance\n",
      "average similarity score of each company in industry: Finance and Insurance v. my company is \n",
      " 11.51\n",
      "industry code: 51, category: Information\n",
      "*** This is the industry category I belong\n",
      "average similarity score of each company in industry: Information v. my company is \n",
      " 13.21\n",
      "industry code: 71, category: Arts, Entertainment, and Recreation\n",
      "average similarity score of each company in industry: Arts, Entertainment, and Recreation v. my company is \n",
      " 12.12\n",
      "industry code: 62, category: Health Care and Social Assistance\n",
      "average similarity score of each company in industry: Health Care and Social Assistance v. my company is \n",
      " 11.9\n"
     ]
    }
   ],
   "source": [
    "test('1652044','51') # Google"
   ]
  },
  {
   "cell_type": "code",
   "execution_count": 137,
   "metadata": {},
   "outputs": [
    {
     "name": "stdout",
     "output_type": "stream",
     "text": [
      "My company: CHEMED CORP\n",
      "\n",
      "Competition Topic of my company v. Competition Topic of other companies (Symmetric Relationship)\n",
      "industry code: 52, category: Finance and Insurance\n",
      "average similarity score of each company in industry: Finance and Insurance v. my company is \n",
      " 11.71\n",
      "industry code: 51, category: Information\n",
      "average similarity score of each company in industry: Information v. my company is \n",
      " 12.07\n",
      "industry code: 71, category: Arts, Entertainment, and Recreation\n",
      "average similarity score of each company in industry: Arts, Entertainment, and Recreation v. my company is \n",
      " 12.46\n",
      "industry code: 62, category: Health Care and Social Assistance\n",
      "*** This is the industry category I belong\n",
      "average similarity score of each company in industry: Health Care and Social Assistance v. my company is \n",
      " 12.12\n",
      "\n",
      "Competition Topic of my company v. Business Topic of other companies (Asymmetric Relationship)\n",
      "industry code: 52, category: Finance and Insurance\n",
      "average similarity score of each company in industry: Finance and Insurance v. my company is \n",
      " 10.42\n",
      "industry code: 51, category: Information\n",
      "average similarity score of each company in industry: Information v. my company is \n",
      " 10.65\n",
      "industry code: 71, category: Arts, Entertainment, and Recreation\n",
      "average similarity score of each company in industry: Arts, Entertainment, and Recreation v. my company is \n",
      " 10.68\n",
      "industry code: 62, category: Health Care and Social Assistance\n",
      "*** This is the industry category I belong\n",
      "average similarity score of each company in industry: Health Care and Social Assistance v. my company is \n",
      " 10.63\n"
     ]
    }
   ],
   "source": [
    "test('19584','62')"
   ]
  },
  {
   "cell_type": "code",
   "execution_count": 136,
   "metadata": {},
   "outputs": [
    {
     "name": "stdout",
     "output_type": "stream",
     "text": [
      "My company: BOWL AMERICA INC  -CL A\n",
      "\n",
      "Competition Topic of my company v. Competition Topic of other companies (Symmetric Relationship)\n",
      "industry code: 52, category: Finance and Insurance\n",
      "average similarity score of each company in industry: Finance and Insurance v. my company is \n",
      " 8.76\n",
      "industry code: 51, category: Information\n",
      "average similarity score of each company in industry: Information v. my company is \n",
      " 8.93\n",
      "industry code: 71, category: Arts, Entertainment, and Recreation\n",
      "*** This is the industry category I belong\n",
      "average similarity score of each company in industry: Arts, Entertainment, and Recreation v. my company is \n",
      " 9.93\n",
      "industry code: 62, category: Health Care and Social Assistance\n",
      "average similarity score of each company in industry: Health Care and Social Assistance v. my company is \n",
      " 8.73\n",
      "\n",
      "Competition Topic of my company v. Business Topic of other companies (Asymmetric Relationship)\n",
      "industry code: 52, category: Finance and Insurance\n",
      "average similarity score of each company in industry: Finance and Insurance v. my company is \n",
      " 9.02\n",
      "industry code: 51, category: Information\n",
      "average similarity score of each company in industry: Information v. my company is \n",
      " 9.15\n",
      "industry code: 71, category: Arts, Entertainment, and Recreation\n",
      "*** This is the industry category I belong\n",
      "average similarity score of each company in industry: Arts, Entertainment, and Recreation v. my company is \n",
      " 9.96\n",
      "industry code: 62, category: Health Care and Social Assistance\n",
      "average similarity score of each company in industry: Health Care and Social Assistance v. my company is \n",
      " 9.18\n"
     ]
    }
   ],
   "source": [
    "test('13573','71') # Bowl America Inc"
   ]
  },
  {
   "cell_type": "code",
   "execution_count": 159,
   "metadata": {},
   "outputs": [],
   "source": [
    "# Example: Amex's 'competition' v. all companies 'business/product' in its code '52' industry\n",
    "my_dct_business = myCompanySimilarity('4962','52', competition = False)\n",
    "# Example: Amex 'competition' v. all companies 'competition' in its code '52' industry\n",
    "my_dct_competition = myCompanySimilarity('4962','52', competition = True)\n"
   ]
  },
  {
   "cell_type": "code",
   "execution_count": 169,
   "metadata": {},
   "outputs": [],
   "source": [
    "def checkIndustry(dct, checkNaics):\n",
    "    \"\"\"\n",
    "    args:\n",
    "        dct (Dictionary {cik : similarity_score}): topic dictionary from myCompanySimilarity()\n",
    "        checkNaics (str): naics code of which industry we would like to check our result from\n",
    "\n",
    "    A function to print out results. A sanity check of the company's most similar company entities in each industry.\n",
    "    \"\"\"\n",
    "    cnt = 0\n",
    "    for cik in dct[checkNaics]:\n",
    "        cnt += 1\n",
    "        print(dct[checkNaics][cik])\n",
    "        print(cik,company_codes[cik])\n",
    "        if cnt > 3:\n",
    "            break"
   ]
  },
  {
   "cell_type": "code",
   "execution_count": 170,
   "metadata": {},
   "outputs": [
    {
     "name": "stdout",
     "output_type": "stream",
     "text": [
      "17.196718841791153\n",
      "1597033 SABRE CORP\n",
      "17.12153697013855\n",
      "1056386 INTERNAP CORP\n",
      "17.07772645354271\n",
      "1412408 PHREESIA INC\n",
      "17.054106652736664\n",
      "1013857 PEGASYSTEMS INC\n"
     ]
    }
   ],
   "source": [
    "# check the most similar companies in Information industry (naics = '51') to AMEX\n",
    "checkIndustry(my_dct_business, '51')"
   ]
  },
  {
   "cell_type": "code",
   "execution_count": 171,
   "metadata": {},
   "outputs": [
    {
     "name": "stdout",
     "output_type": "stream",
     "text": [
      "17.144557774066925\n",
      "1475348 LUTHER BURBANK CORP\n",
      "16.889004826545715\n",
      "1327607 FIRST WSTRN FINNCIL INC\n",
      "16.857061356306076\n",
      "1386278 GREEN DOT CORP\n",
      "16.732975274324417\n",
      "4962 AMERICAN EXPRESS CO\n"
     ]
    }
   ],
   "source": [
    "checkIndustry(my_dct_business, '52')"
   ]
  },
  {
   "cell_type": "code",
   "execution_count": 172,
   "metadata": {},
   "outputs": [
    {
     "name": "stdout",
     "output_type": "stream",
     "text": [
      "14.905712485313416\n",
      "1532158 REBEL GROUP INC\n",
      "14.759829759597778\n",
      "812011 VAIL RESORTS INC\n",
      "14.694080293178558\n",
      "20212 CHURCHILL DOWNS INC\n",
      "14.150902792811394\n",
      "1564902 SEAWORLD ENTERTAINMENT INC\n"
     ]
    }
   ],
   "source": [
    "checkIndustry(my_dct_business, '71')"
   ]
  },
  {
   "cell_type": "code",
   "execution_count": 173,
   "metadata": {},
   "outputs": [
    {
     "name": "stdout",
     "output_type": "stream",
     "text": [
      "16.65358054637909\n",
      "1477449 TELADOC HEALTH INC\n",
      "16.166080325841904\n",
      "1766400 PENNANT GROUP INC (THE)\n",
      "15.861139863729477\n",
      "785557 DLH HOLDINGS CORP\n",
      "15.681797623634338\n",
      "1574774 BIOTELEMETRY INC\n"
     ]
    }
   ],
   "source": [
    "checkIndustry(my_dct_business, '62')"
   ]
  },
  {
   "cell_type": "code",
   "execution_count": 142,
   "metadata": {},
   "outputs": [
    {
     "data": {
      "text/plain": [
       "4"
      ]
     },
     "execution_count": 142,
     "metadata": {},
     "output_type": "execute_result"
    }
   ],
   "source": [
    "len(my_dct_business)"
   ]
  },
  {
   "cell_type": "markdown",
   "metadata": {},
   "source": [
    "### Additional text analysis: Text Ranking\n",
    "Text ranking algorithm that might be helpful to analyze the competition relationships among companies, or for other  purposes."
   ]
  },
  {
   "cell_type": "markdown",
   "metadata": {},
   "source": [
    "References: \n",
    "https://radimrehurek.com/gensim/summarization/summariser.html"
   ]
  },
  {
   "cell_type": "code",
   "execution_count": 33,
   "metadata": {},
   "outputs": [],
   "source": [
    "from pprint import pprint as print\n",
    "from gensim.summarization import summarize\n",
    "from gensim.summarization import keywords"
   ]
  },
  {
   "cell_type": "code",
   "execution_count": 112,
   "metadata": {},
   "outputs": [
    {
     "data": {
      "text/plain": [
       "'we compete in the global payments industry with card networks, issuers and acquirers, paper-based transactions (e.g., cash and checks), bank transfer models (e.g., wire transfers and automated clearing house, or ach), as well as evolving and growing alternative payment and financing providers. as the payments industry continues to evolve, we face increasing competition from non-traditional players that leverage new technologies, business models and customer relationships to create payment or fin'"
      ]
     },
     "execution_count": 112,
     "metadata": {},
     "output_type": "execute_result"
    }
   ],
   "source": [
    "competition_text = re.findall('(competition)(.*?)(supervision and regulation)',text)[0][1]\n",
    "competition_text[:500]"
   ]
  },
  {
   "cell_type": "code",
   "execution_count": 114,
   "metadata": {},
   "outputs": [
    {
     "name": "stdout",
     "output_type": "stream",
     "text": [
      "('payment\\n'\n",
      " 'global payments\\n'\n",
      " 'card\\n'\n",
      " 'cards\\n'\n",
      " 'technology\\n'\n",
      " 'technologies business\\n'\n",
      " 'merchant\\n'\n",
      " 'merchants\\n'\n",
      " 'including\\n'\n",
      " 'include\\n'\n",
      " 'competition\\n'\n",
      " 'competitive\\n'\n",
      " 'businesses\\n'\n",
      " 'networks\\n'\n",
      " 'network\\n'\n",
      " 'value\\n'\n",
      " 'financial\\n'\n",
      " 'customer\\n'\n",
      " 'customers\\n'\n",
      " 'globally based\\n'\n",
      " 'services\\n'\n",
      " 'service\\n'\n",
      " 'providers\\n'\n",
      " 'providing\\n'\n",
      " 'provide\\n'\n",
      " 'acquirers\\n'\n",
      " 'adversely\\n'\n",
      " 'adverse\\n'\n",
      " 'capabilities')\n"
     ]
    }
   ],
   "source": [
    "print(keywords(competition_text, ratio=0.1))"
   ]
  },
  {
   "cell_type": "code",
   "execution_count": 61,
   "metadata": {},
   "outputs": [
    {
     "name": "stdout",
     "output_type": "stream",
     "text": [
      "(\"And she won't eat her dinner - rice pudding again -\\n\"\n",
      " \"I've promised her dolls and a daisy-chain,\\n\"\n",
      " \"I've promised her sweets and a ride in the train,\\n\"\n",
      " \"And it's lovely rice pudding for dinner again!\")\n"
     ]
    }
   ],
   "source": [
    "# Text ranking example\n",
    "text = '''Rice Pudding - Poem by Alan Alexander Milne\n",
    "... What is the matter with Mary Jane?\n",
    "... She's crying with all her might and main,\n",
    "... And she won't eat her dinner - rice pudding again -\n",
    "... What is the matter with Mary Jane?\n",
    "... What is the matter with Mary Jane?\n",
    "... I've promised her dolls and a daisy-chain,\n",
    "... And a book about animals - all in vain -\n",
    "... What is the matter with Mary Jane?\n",
    "... What is the matter with Mary Jane?\n",
    "... She's perfectly well, and she hasn't a pain;\n",
    "... But, look at her, now she's beginning again! -\n",
    "... What is the matter with Mary Jane?\n",
    "... What is the matter with Mary Jane?\n",
    "... I've promised her sweets and a ride in the train,\n",
    "... And I've begged her to stop for a bit and explain -\n",
    "... What is the matter with Mary Jane?\n",
    "... What is the matter with Mary Jane?\n",
    "... She's perfectly well and she hasn't a pain,\n",
    "... And it's lovely rice pudding for dinner again!\n",
    "... What is the matter with Mary Jane?'''\n",
    "print(summarize(text))"
   ]
  },
  {
   "cell_type": "code",
   "execution_count": 104,
   "metadata": {},
   "outputs": [],
   "source": [
    "# Text ranking exmple: American Express\n",
    "cik = '4962'\n",
    "text = sample_lst[cik][0]\n",
    "\n",
    "# print(\"========Company Name: {}========\".format(company_codes[cik]))\n",
    "# print(\"1) Top 10 sentence from 10-K, based on Mihalcea's text ranking algorithm: \")\n",
    "# txt_summary = summarize(text,0.1)\n",
    "# txt_summary = txt_summary.split('\\n')\n",
    "# print(list(enumerate(txt_summary[:10])))\n",
    "# print(\"2) Keywords from 10-K, based on Mihalcea's text ranking algorithm: \")\n",
    "# print(keywords(text, ratio=0.01))\n",
    "# print(\"3) Keywords from 10-K, based on Montemurro and Zanette’s entropy based keyword extraction algorithm\")\n",
    "# print(gensim.summarization.mz_keywords(text,scores=True,weighted=False,threshold='auto')[:10])\n",
    "\n"
   ]
  },
  {
   "cell_type": "code",
   "execution_count": null,
   "metadata": {},
   "outputs": [],
   "source": []
  }
 ],
 "metadata": {
  "kernelspec": {
   "display_name": "Python 3",
   "language": "python",
   "name": "python3"
  },
  "language_info": {
   "codemirror_mode": {
    "name": "ipython",
    "version": 3
   },
   "file_extension": ".py",
   "mimetype": "text/x-python",
   "name": "python",
   "nbconvert_exporter": "python",
   "pygments_lexer": "ipython3",
   "version": "3.7.3"
  }
 },
 "nbformat": 4,
 "nbformat_minor": 2
}
