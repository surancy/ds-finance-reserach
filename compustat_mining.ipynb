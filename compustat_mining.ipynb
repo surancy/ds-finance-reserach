{
 "cells": [
  {
   "cell_type": "markdown",
   "metadata": {},
   "source": [
    "## Overview \n",
    "\n",
    "Author: Chenyu Shen (Rainy)  \n",
    "Last Update: August 16, 2020\n",
    "\n",
    "This notebook is an automation of data mining from wrds libary. For the purpose of this research, we mine data from Compustat dataset. The data result changes daily, and we can change the variable names in the code for different analysis."
   ]
  },
  {
   "cell_type": "markdown",
   "metadata": {},
   "source": [
    "## Set up"
   ]
  },
  {
   "cell_type": "code",
   "execution_count": 1,
   "metadata": {},
   "outputs": [],
   "source": [
    "# Set up standard python analysis framework\n",
    "import pandas as pd\n",
    "import numpy as np\n",
    "from pprint import pprint"
   ]
  },
  {
   "cell_type": "code",
   "execution_count": 2,
   "metadata": {},
   "outputs": [
    {
     "name": "stdout",
     "output_type": "stream",
     "text": [
      "Loading library list...\n",
      "Done\n"
     ]
    }
   ],
   "source": [
    "# Set up wrds database connection\n",
    "import wrds\n",
    "username = \"yourusername\" # enter username here, enter password when prompted\n",
    "db = wrds.Connection(wrds_username=username)"
   ]
  },
  {
   "cell_type": "code",
   "execution_count": null,
   "metadata": {},
   "outputs": [],
   "source": [
    "# sets up a \"pgpass\" file that do not need to re-enter the username and password everytime\n",
    "# once done once, you don't have to run this cell in future\n",
    "db.create_pgpass_file() "
   ]
  },
  {
   "cell_type": "code",
   "execution_count": 3,
   "metadata": {},
   "outputs": [],
   "source": [
    "# Test database connection\n",
    "db.close()\n",
    "db = wrds.Connection(wrds_username=username)"
   ]
  },
  {
   "cell_type": "markdown",
   "metadata": {},
   "source": [
    "## Data Inspection \n",
    "Before data mining, inspect certain features of the wrds libarary and the dataset we are interested in."
   ]
  },
  {
   "cell_type": "code",
   "execution_count": 3,
   "metadata": {},
   "outputs": [
    {
     "data": {
      "text/plain": [
       "['wrds_lib_internal', 'compg', 'ppubsamp_d4d_new', 'ktmine', 'compsamp']"
      ]
     },
     "execution_count": 3,
     "metadata": {},
     "output_type": "execute_result"
    }
   ],
   "source": [
    "# List libraries in wrds\n",
    "db.list_libraries()[:5]"
   ]
  },
  {
   "cell_type": "code",
   "execution_count": 4,
   "metadata": {},
   "outputs": [
    {
     "data": {
      "text/plain": [
       "'filings'"
      ]
     },
     "execution_count": 4,
     "metadata": {},
     "output_type": "execute_result"
    }
   ],
   "source": [
    "# List tables for specified library\n",
    "# E.g. compustat : 'comp'\n",
    "db.list_tables(library = 'comp')[0]"
   ]
  },
  {
   "cell_type": "code",
   "execution_count": 5,
   "metadata": {},
   "outputs": [
    {
     "name": "stdout",
     "output_type": "stream",
     "text": [
      "Approximately 820642 rows in comp.funda.\n"
     ]
    }
   ],
   "source": [
    "# Describe selected. E.g. Compustat database - fundamentals annual daily table(North America) \n",
    "col_headers = db.describe_table(library = 'comp', table = 'funda')\n",
    "# compd: Compustat - NA, Bank, Global - Daily Update"
   ]
  },
  {
   "cell_type": "code",
   "execution_count": 6,
   "metadata": {},
   "outputs": [
    {
     "name": "stdout",
     "output_type": "stream",
     "text": [
      "Number of variables in this table:  948\n",
      "['gvkey', 'datadate', 'fyear', 'indfmt', 'consol', 'popsrc', 'datafmt', 'tic', 'cusip', 'conm', 'acctchg', 'acctstd', 'acqmeth', 'adrr', 'ajex', 'ajp', 'bspr', 'compst', 'curcd', 'curncd', 'currtr', 'curuscn', 'final', 'fyr', 'ismod', 'ltcm', 'ogm', 'pddur', 'scf', 'src', 'stalt', 'udpl', 'upd', 'apdedate', 'fdate', 'pdate', 'acchg', 'acco', 'accrt', 'acdo', 'aco', 'acodo', 'acominc', 'acox', 'acoxar', 'acqao', 'acqcshi', 'acqgdwl', 'acqic', 'acqintan']\n"
     ]
    }
   ],
   "source": [
    "# Check variables of this table\n",
    "all_var = col_headers['name'].to_list()\n",
    "print(\"Number of variables in this table: \", len(all_var))\n",
    "print(all_var[:50]) # list of all variables in selected table"
   ]
  },
  {
   "cell_type": "code",
   "execution_count": 7,
   "metadata": {},
   "outputs": [
    {
     "data": {
      "text/html": [
       "<div>\n",
       "<style scoped>\n",
       "    .dataframe tbody tr th:only-of-type {\n",
       "        vertical-align: middle;\n",
       "    }\n",
       "\n",
       "    .dataframe tbody tr th {\n",
       "        vertical-align: top;\n",
       "    }\n",
       "\n",
       "    .dataframe thead th {\n",
       "        text-align: right;\n",
       "    }\n",
       "</style>\n",
       "<table border=\"1\" class=\"dataframe\">\n",
       "  <thead>\n",
       "    <tr style=\"text-align: right;\">\n",
       "      <th></th>\n",
       "      <th>count</th>\n",
       "    </tr>\n",
       "  </thead>\n",
       "  <tbody>\n",
       "    <tr>\n",
       "      <th>0</th>\n",
       "      <td>10229</td>\n",
       "    </tr>\n",
       "  </tbody>\n",
       "</table>\n",
       "</div>"
      ],
      "text/plain": [
       "   count\n",
       "0  10229"
      ]
     },
     "execution_count": 7,
     "metadata": {},
     "output_type": "execute_result"
    }
   ],
   "source": [
    "# number of companies with filings in 2019\n",
    "# this number keeps updating in real time\n",
    "db.raw_sql(\n",
    "\"\"\"\n",
    "SELECT  COUNT(DISTINCT gvkey)\n",
    "FROM comp.funda\n",
    "WHERE fyear >= 2019\n",
    "\"\"\"\n",
    ")"
   ]
  },
  {
   "cell_type": "code",
   "execution_count": 8,
   "metadata": {},
   "outputs": [
    {
     "data": {
      "text/html": [
       "<div>\n",
       "<style scoped>\n",
       "    .dataframe tbody tr th:only-of-type {\n",
       "        vertical-align: middle;\n",
       "    }\n",
       "\n",
       "    .dataframe tbody tr th {\n",
       "        vertical-align: top;\n",
       "    }\n",
       "\n",
       "    .dataframe thead th {\n",
       "        text-align: right;\n",
       "    }\n",
       "</style>\n",
       "<table border=\"1\" class=\"dataframe\">\n",
       "  <thead>\n",
       "    <tr style=\"text-align: right;\">\n",
       "      <th></th>\n",
       "      <th>count</th>\n",
       "    </tr>\n",
       "  </thead>\n",
       "  <tbody>\n",
       "    <tr>\n",
       "      <th>0</th>\n",
       "      <td>11394</td>\n",
       "    </tr>\n",
       "  </tbody>\n",
       "</table>\n",
       "</div>"
      ],
      "text/plain": [
       "   count\n",
       "0  11394"
      ]
     },
     "execution_count": 8,
     "metadata": {},
     "output_type": "execute_result"
    }
   ],
   "source": [
    "# number of companies with filings in 2019, quarterly database\n",
    "# this number keeps updating in real time\n",
    "db.raw_sql(\n",
    "\"\"\"\n",
    "SELECT  COUNT(DISTINCT gvkey)\n",
    "FROM comp.fundq\n",
    "WHERE fyearq >= 2019\n",
    "\"\"\"\n",
    ")"
   ]
  },
  {
   "cell_type": "markdown",
   "metadata": {},
   "source": [
    "## Data Mining \n",
    "Get data from Compustat with selected table and variables. Refer to Compustat documentation on wrds to see the table name, and variable codes [WRDS datasets reference](https://wrds-web.wharton.upenn.edu/wrds/tools/variable.cfm?library_id=162)."
   ]
  },
  {
   "cell_type": "code",
   "execution_count": 8,
   "metadata": {},
   "outputs": [
    {
     "name": "stdout",
     "output_type": "stream",
     "text": [
      "CPU times: user 433 ms, sys: 224 ms, total: 657 ms\n",
      "Wall time: 44 s\n"
     ]
    }
   ],
   "source": [
    "%%time\n",
    "# query with sql\n",
    "# from table: North America Fundamentals Annual (Daily)\n",
    "df_na_annual = db.raw_sql(\n",
    "\"\"\"\n",
    "SELECT  gvkey,\n",
    "        cik,\n",
    "        cusip,\n",
    "        conm,\n",
    "        fyear,\n",
    "        naicsh,\n",
    "        revt AS \"Revenue - Total\",\n",
    "        tie AS \"Interest Expense Total (Financial Services)\",\n",
    "        txt AS \"Income Taxes - Total\",\n",
    "        xopr AS \"Operating Expenses Total\",\n",
    "        xt AS \"Expense - Total\",\n",
    "        ni AS \"Net Income(Loss)\",\n",
    "        ch AS \"Cash\",\n",
    "        at AS \"Assets - Total\",\n",
    "        lt AS \"Liabilities - Total\",\n",
    "        seq AS \"Stockholders' Equity - Total\",\n",
    "        reuna AS \"Retained Earnings Unadjusted\",\n",
    "        reuna - seq AS \"Contributed Capital\",\n",
    "        dvt AS \"Dividends - Total\",\n",
    "        at - ch AS \"NCAssets\",\n",
    "        at - ch - lt AS \"NetNCAssets\",\n",
    "        ni/NULLIF(at,0) AS \"ROA\",\n",
    "        ni/NULLIF(seq,0) AS \"ROE\"\n",
    "FROM comp.funda\n",
    "WHERE (fyear >= 2013 AND fyear <= 2019) AND\n",
    "      fdate IS NOT NULL AND\n",
    "      naicsh IS NOT NULL AND\n",
    "      ni IS NOT NULL AND\n",
    "      at IS NOT NULL AND\n",
    "      seq IS NOT NULL \n",
    "\"\"\"\n",
    ")\n"
   ]
  },
  {
   "cell_type": "code",
   "execution_count": 9,
   "metadata": {},
   "outputs": [],
   "source": [
    "def describe_data(df):\n",
    "    print(\"number of records \", len(df))\n",
    "    print(\"number of companies \", len(np.unique(df[\"conm\"])))"
   ]
  },
  {
   "cell_type": "code",
   "execution_count": 10,
   "metadata": {},
   "outputs": [
    {
     "name": "stdout",
     "output_type": "stream",
     "text": [
      "number of records  41442\n",
      "number of companies  9220\n"
     ]
    }
   ],
   "source": [
    "# Describe data\n",
    "describe_data(df_na_annual)"
   ]
  },
  {
   "cell_type": "code",
   "execution_count": 34,
   "metadata": {},
   "outputs": [],
   "source": [
    "# drop duplicates\n",
    "df_na_annual.drop_duplicates(inplace = True)\n",
    "# drop null value\n",
    "df_na_annual.dropna(inplace = True)"
   ]
  },
  {
   "cell_type": "code",
   "execution_count": 35,
   "metadata": {},
   "outputs": [
    {
     "name": "stdout",
     "output_type": "stream",
     "text": [
      "number of records  42985\n",
      "number of companies  8470\n"
     ]
    }
   ],
   "source": [
    "describe_data(df_na_annual) # data result after previous processing"
   ]
  },
  {
   "cell_type": "code",
   "execution_count": 36,
   "metadata": {},
   "outputs": [],
   "source": [
    "# store data result to csv file\n",
    "df_na_annual.to_csv(\"data_output/df_na_annual_13-19.csv\",index = False)"
   ]
  },
  {
   "cell_type": "markdown",
   "metadata": {},
   "source": [
    "## Reference:  \n",
    "1) WRDS's introduction site of programmin using python:  \n",
    "https://wrds-www.wharton.upenn.edu/pages/support/programming-wrds/programming-python/python-from-your-computer/  \n",
    "2) WRDS Python package documentation:  \n",
    "https://pypi.org/project/wrds/  \n",
    "3) WRDS datasets reference:  \n",
    "https://wrds-web.wharton.upenn.edu/wrds/tools/variable.cfm?library_id=162\n"
   ]
  },
  {
   "cell_type": "code",
   "execution_count": null,
   "metadata": {},
   "outputs": [],
   "source": []
  }
 ],
 "metadata": {
  "kernelspec": {
   "display_name": "Python 3",
   "language": "python",
   "name": "python3"
  },
  "language_info": {
   "codemirror_mode": {
    "name": "ipython",
    "version": 3
   },
   "file_extension": ".py",
   "mimetype": "text/x-python",
   "name": "python",
   "nbconvert_exporter": "python",
   "pygments_lexer": "ipython3",
   "version": "3.7.3"
  }
 },
 "nbformat": 4,
 "nbformat_minor": 2
}
